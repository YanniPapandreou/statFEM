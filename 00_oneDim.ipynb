{
 "cells": [
  {
   "cell_type": "code",
   "execution_count": null,
   "metadata": {},
   "outputs": [],
   "source": [
    "# default_exp oneDim"
   ]
  },
  {
   "cell_type": "code",
   "execution_count": null,
   "metadata": {},
   "outputs": [],
   "source": [
    "#hide\n",
    "import matplotlib.pyplot as plt\n",
    "plt.rcParams['figure.figsize'] = (10,6)"
   ]
  },
  {
   "cell_type": "markdown",
   "metadata": {},
   "source": [
    "# oneDim\n",
    "> Code for a 1-D problem."
   ]
  },
  {
   "cell_type": "code",
   "execution_count": null,
   "metadata": {},
   "outputs": [],
   "source": [
    "#hide\n",
    "from nbdev.showdoc import *"
   ]
  },
  {
   "cell_type": "markdown",
   "metadata": {},
   "source": [
    "# 1 dimensional case (ODE)\n",
    "\n",
    "We consider the following 1-D problem:\n",
    "\n",
    "$$-\\frac{d}{dx}\\left(p(x)\\frac{du(x)}{dx}\\right)=f(x) \\hspace{0.5cm}\\forall x\\in[0,1]$$\n",
    "\n",
    "$$u(0)=u(1)=0$$\n",
    "\n",
    "where here $f$ is a random forcing term, assumed to be a GP in this work. "
   ]
  },
  {
   "cell_type": "markdown",
   "metadata": {},
   "source": [
    "## Variational formulation\n",
    "\n",
    "The variational formulation is given by:\n",
    "\n",
    "$$a(u,v)=L(v)$$\n",
    "\n",
    "where:\n",
    "\n",
    "$$a(u,v)=\\int_{0}^{1}pu^{\\prime}v^{\\prime}dx$$\n",
    "\n",
    "and\n",
    "\n",
    "$$L(v)=\\int_{0}^{1}fvdx$$"
   ]
  },
  {
   "cell_type": "markdown",
   "metadata": {},
   "source": [
    "We will make the following choices for $p,f$:\n",
    "\n",
    "$$p(x)=1$$\n",
    "\n",
    "$$f\\sim\\mathcal{G}\\mathcal{P}(\\bar{f},k_{f})$$\n",
    "\n",
    "$$\\bar{f}(x)=1$$\n",
    "\n",
    "$$ k_{f}(x,y) = \\sigma_f^{2}\\exp\\left(-\\frac{|x-y|^2}{2l_f^2}\\right)$$\n",
    "\n",
    "$$ \\sigma_{f} = 0.1$$\n",
    "\n",
    "$$ l_f = 0.4 $$"
   ]
  },
  {
   "cell_type": "markdown",
   "metadata": {},
   "source": [
    "## Difference between true mean and FEM mean\n",
    "\n",
    "Since the mean of $f$ is $\\bar{f}(x)=1$ we have that the true mean of the solution $u$ is the solution of the ODE with forcing term set to the constant function 1. This has the exact analytic solution:\n",
    "\n",
    "$$u(x)=\\frac{1}{2}x(1-x)$$\n",
    "\n",
    "as can be directly verified.\n",
    "\n",
    "The FEM approximation to the solution distribution has mean $\\boldsymbol{\\Phi}(x)^{*}A^{-1}\\bar{F}$ which is the solution to the approximate variational problem obtained by replacing $f$ with $\\bar{f}$ in the linear form $L$. \n",
    "\n",
    "We will utilise FEniCS to compute the error between these two as a function of $h$ the mesh size. To do this we first create a function `mean_assembler` which will assemble the mean for the FEM prior"
   ]
  },
  {
   "cell_type": "code",
   "execution_count": null,
   "metadata": {},
   "outputs": [],
   "source": [
    "#export\n",
    "from dolfin import *\n",
    "import numpy as np\n",
    "from scipy import integrate\n",
    "from scipy.spatial.distance import cdist\n",
    "from scipy.linalg import sqrtm\n",
    "from scipy.sparse import csr_matrix\n",
    "from scipy.sparse.linalg import spsolve\n",
    "from scipy.interpolate import interp1d\n",
    "from joblib import Parallel, delayed\n",
    "import multiprocessing\n",
    "\n",
    "# code to assemble the mean for a given mesh size\n",
    "def mean_assembler(h,f_bar):\n",
    "    \"This function assembles the mean for the FEM prior for our 1-D problem\"\n",
    "    # get size of the grid\n",
    "    J = int(np.round(1/h))\n",
    "    \n",
    "    # set up the mesh and function space for FEM\n",
    "    mesh = UnitIntervalMesh(J)\n",
    "    V = FunctionSpace(mesh,'Lagrange',1)\n",
    "    \n",
    "    # set up boundary conditiond\n",
    "    def boundary(x, on_boundary):\n",
    "        return on_boundary\n",
    "    \n",
    "    bc = DirichletBC(V, 0.0, boundary)\n",
    "    # set up the functions p and f\n",
    "    p = Constant(1.0)\n",
    "    f = f_bar\n",
    "    \n",
    "    # set up the bilinear form for the variational problem\n",
    "    u = TrialFunction(V)\n",
    "    v = TestFunction(V)\n",
    "    a = inner(p*grad(u),grad(v))*dx\n",
    "    \n",
    "    # set up the linear form\n",
    "    L = f*v*dx\n",
    "    \n",
    "    # solve the variational problem\n",
    "    μ = Function(V)\n",
    "    solve(a == L, μ, bc)\n",
    "    \n",
    "    return μ"
   ]
  },
  {
   "cell_type": "markdown",
   "metadata": {},
   "source": [
    "`mean_assembler` takes in the mesh size `h` and the mean function `f_bar` for the forcing and computes the mean of the approximate FEM prior, returning this as a FEniCS function."
   ]
  },
  {
   "cell_type": "markdown",
   "metadata": {},
   "source": [
    "> Important: `mean_assembler` requires `f_bar` to be represented as a FEniCS function/expression/constant."
   ]
  },
  {
   "cell_type": "markdown",
   "metadata": {},
   "source": [
    "Let's check that this is working:"
   ]
  },
  {
   "cell_type": "code",
   "execution_count": null,
   "metadata": {},
   "outputs": [
    {
     "data": {
      "image/png": "[encoded data removed]",
      "text/latex": [
       "${w_h^151}$"
      ],
      "text/plain": [
       "Coefficient(FunctionSpace(Mesh(VectorElement(FiniteElement('Lagrange', interval, 1), dim=1), 143), FiniteElement('Lagrange', interval, 1)), 151)"
      ]
     },
     "execution_count": null,
     "metadata": {},
     "output_type": "execute_result"
    }
   ],
   "source": [
    "h = 0.15\n",
    "f_bar = Constant(1.0)\n",
    "μ = mean_assembler(h,f_bar)\n",
    "μ"
   ]
  },
  {
   "cell_type": "code",
   "execution_count": null,
   "metadata": {},
   "outputs": [],
   "source": [
    "# check the type of μ\n",
    "assert type(μ) == function.function.Function"
   ]
  },
  {
   "cell_type": "markdown",
   "metadata": {},
   "source": [
    "As explained above the true mean is the function $u(x)=\\frac{1}{2}x(1-x)$. Let's check that the approximate mean resembles this by plotting both:"
   ]
  },
  {
   "cell_type": "code",
   "execution_count": null,
   "metadata": {},
   "outputs": [
    {
     "data": {
      "image/png": "[encoded data removed]",
      "text/plain": [
       "<Figure size 720x432 with 1 Axes>"
      ]
     },
     "metadata": {
      "needs_background": "light"
     },
     "output_type": "display_data"
    }
   ],
   "source": [
    "#hide_input\n",
    "# use FEniCS to plot μ\n",
    "x = np.linspace(0,1,100)\n",
    "μ_true = 0.5*x*(1-x)\n",
    "plt.plot(x,μ_true,label='true mean',color='red')\n",
    "plot(μ,label='FEM approximation',color='blue')\n",
    "plt.legend()\n",
    "plt.xlabel(r'$x$')\n",
    "plt.grid()\n",
    "plt.show()"
   ]
  },
  {
   "cell_type": "code",
   "execution_count": null,
   "metadata": {},
   "outputs": [
    {
     "name": "stdout",
     "output_type": "stream",
     "text": [
      "Converted 00_oneDim.ipynb.\n",
      "Converted index.ipynb.\n"
     ]
    }
   ],
   "source": [
    "#hide\n",
    "from nbdev.export import notebook2script; notebook2script()"
   ]
  },
  {
   "cell_type": "code",
   "execution_count": null,
   "metadata": {},
   "outputs": [],
   "source": []
  }
 ],
 "metadata": {
  "kernelspec": {
   "display_name": "Python 3",
   "language": "python",
   "name": "python3"
  }
 },
 "nbformat": 4,
 "nbformat_minor": 4
}
