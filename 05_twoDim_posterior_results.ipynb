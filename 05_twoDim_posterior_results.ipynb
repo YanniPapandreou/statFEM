{
 "cells": [
  {
   "cell_type": "code",
   "execution_count": null,
   "id": "2b0165c1",
   "metadata": {},
   "outputs": [],
   "source": [
    "# default_exp"
   ]
  },
  {
   "cell_type": "code",
   "execution_count": null,
   "id": "8b52a8c5",
   "metadata": {},
   "outputs": [],
   "source": [
    "#hide\n",
    "#all_slow"
   ]
  },
  {
   "cell_type": "markdown",
   "id": "d068a284",
   "metadata": {},
   "source": [
    "# 2-D posterior toy example\n",
    "\n",
    "> Demonstration of posterior error bounds for a 2-D toy example, for various levels of sensor noise"
   ]
  },
  {
   "cell_type": "markdown",
   "id": "1354672b",
   "metadata": {},
   "source": [
    "In this notebook we will demonstrate the error bounds for the statFEM posterior for the toy example introduced in <a href=\"/statFEM/twoDim.html#2-dimensional-case-(PDE)\"><code>twoDim</code></a>. We first import some required packages."
   ]
  },
  {
   "cell_type": "code",
   "execution_count": null,
   "id": "b2ada6f0",
   "metadata": {},
   "outputs": [],
   "source": [
    "from dolfin import *\n",
    "import numpy as np\n",
    "import pandas as pd\n",
    "import matplotlib.pyplot as plt\n",
    "# import seaborn as sns\n",
    "# import matplotlib.cm as cm\n",
    "# import matplotlib.colors as colors\n",
    "# import matplotlib.colorbar as colorbar\n",
    "# import matplotlib.tri as tri\n",
    "plt.rcParams['figure.figsize'] = (10,6)\n",
    "from scipy.linalg import sqrtm\n",
    "import sympy; sympy.init_printing()\n",
    "from tqdm.notebook import tqdm\n",
    "# code for displaying matrices nicely\n",
    "def display_matrix(m):\n",
    "    display(sympy.Matrix(m))\n",
    "# import required functions from twoDim\n",
    "from statFEM.twoDim import mean_assembler, kernMat, cov_assembler, m_post, gen_sensor, MyExpression, m_post_fem_assembler, c_post, c_post_fem_assembler"
   ]
  },
  {
   "cell_type": "markdown",
   "id": "c33b7b33",
   "metadata": {},
   "source": [
    "Since we again to not have access to the true distribution we will use the method outlined in the section <a href=\"/statFEM/twoDim_prior_results.html\"><code>2-D prior toy example</code></a> to approximate the convergence rate. We now set up the required code."
   ]
  },
  {
   "cell_type": "markdown",
   "id": "d6118554",
   "metadata": {},
   "source": [
    "First we set up the mean and kernel functions for the random forcing term $f$."
   ]
  },
  {
   "cell_type": "code",
   "execution_count": null,
   "id": "35b26183",
   "metadata": {},
   "outputs": [],
   "source": [
    "# set up mean and kernel functions\n",
    "f_bar = Constant(1.0)\n",
    "\n",
    "l_f = 0.4\n",
    "σ_f = 0.1\n",
    "\n",
    "def k_f(x):\n",
    "    return (σ_f**2)*np.exp(-(x**2)/(2*(l_f**2)))\n",
    "\n",
    "def m_f(x):\n",
    "    return 1.0"
   ]
  },
  {
   "cell_type": "markdown",
   "id": "f2b04340",
   "metadata": {},
   "source": [
    "We now set up a reference grid on which we will compare the covariance matrices."
   ]
  },
  {
   "cell_type": "code",
   "execution_count": null,
   "id": "b04a5906",
   "metadata": {},
   "outputs": [],
   "source": [
    "N = 41\n",
    "x_range = np.linspace(0,1,N)\n",
    "grid = np.array([[x,y] for x in x_range for y in x_range])\n",
    "# plt.scatter(grid[:,0],grid[:,1])\n",
    "# plt.grid()\n",
    "# plt.show()"
   ]
  },
  {
   "cell_type": "code",
   "execution_count": null,
   "id": "18080919-aa6e-4579-9941-bbd1decf24bf",
   "metadata": {},
   "outputs": [],
   "source": [
    "ϵ = 0.001"
   ]
  },
  {
   "cell_type": "markdown",
   "id": "d645a881",
   "metadata": {},
   "source": [
    "We now set up the sensor grid and generate some sensor data."
   ]
  },
  {
   "cell_type": "code",
   "execution_count": null,
   "id": "dc9f474a",
   "metadata": {},
   "outputs": [
    {
     "name": "stdout",
     "output_type": "stream",
     "text": [
      "CPU times: user 1min 45s, sys: 19.3 s, total: 2min 4s\n",
      "Wall time: 30.2 s\n"
     ]
    }
   ],
   "source": [
    "%%time\n",
    "s = 25\n",
    "s_sqrt = int(np.round(np.sqrt(s)))\n",
    "Y_range = np.linspace(0.01,0.99,s_sqrt)\n",
    "Y = np.array([[x,y] for x in Y_range for y in Y_range])\n",
    "J_fine = 120\n",
    "np.random.seed(42)\n",
    "v_dat = gen_sensor(ϵ,m_f,k_f,Y,J_fine,False,True)"
   ]
  },
  {
   "cell_type": "code",
   "execution_count": null,
   "id": "1616ff42-b574-40a8-8be9-2653c69f3a13",
   "metadata": {},
   "outputs": [],
   "source": [
    "# def fem_prior(h,f_bar,k_f,grid):\n",
    "#     J = int(np.round(1/h))\n",
    "#     μ = mean_assembler(h,f_bar)\n",
    "#     μ_vect = np.array([μ(x) for x in grid])\n",
    "#     Σ = cov_assembler(J,k_f,grid,False,True)\n",
    "#     return μ_vect,Σ"
   ]
  },
  {
   "cell_type": "markdown",
   "id": "a3865e73",
   "metadata": {},
   "source": [
    "We now set up a function to get the statFEM posterior for a FE mesh size $h$, using functions from <a href=\"/statFEM/twoDim.html#\"><code>twoDim</code></a>."
   ]
  },
  {
   "cell_type": "code",
   "execution_count": null,
   "id": "dc24ea3b",
   "metadata": {},
   "outputs": [],
   "source": [
    "def fem_posterior(h,f_bar,k_f,ϵ,Y,v_dat,grid):\n",
    "    J = int(np.round(1/h))\n",
    "    m_post_fem = m_post_fem_assembler(J,f_bar,k_f,ϵ,Y,v_dat)\n",
    "    μ = MyExpression()\n",
    "    μ.f = m_post_fem\n",
    "    Σ = c_post_fem_assembler(J,k_f,grid,Y,ϵ,False,True)\n",
    "    return μ,Σ"
   ]
  },
  {
   "cell_type": "code",
   "execution_count": null,
   "id": "118bb650-c913-4920-a88d-6a9a227a69b3",
   "metadata": {},
   "outputs": [],
   "source": [
    "# %%time\n",
    "# h = 0.1\n",
    "# μ_prior, Σ_prior = fem_prior(h,f_bar,k_f,grid)\n",
    "# μ_posterior, Σ_posterior = fem_posterior(h,f_bar,k_f,ϵ,Y,v_dat,grid)"
   ]
  },
  {
   "cell_type": "code",
   "execution_count": null,
   "id": "70a51754-98dd-40c1-94dc-231fb3434674",
   "metadata": {},
   "outputs": [],
   "source": [
    "# sns.heatmap(Σ_prior,cbar=True,\n",
    "#               annot=False,\n",
    "#               xticklabels=False,\n",
    "#               yticklabels=False,\n",
    "#               cmap=cm.viridis)\n",
    "# plt.title('Heat map of statFEM prior covariance matrix')\n",
    "# plt.show()"
   ]
  },
  {
   "cell_type": "code",
   "execution_count": null,
   "id": "7ecbe140-1028-4803-818b-f1e6c4405fa4",
   "metadata": {},
   "outputs": [],
   "source": [
    "# sns.heatmap(Σ_posterior,cbar=True,\n",
    "#               annot=False,\n",
    "#               xticklabels=False,\n",
    "#               yticklabels=False,\n",
    "#               cmap=cm.viridis)\n",
    "# plt.title('Heat map of statFEM posterior covariance matrix')\n",
    "# plt.show()"
   ]
  },
  {
   "cell_type": "markdown",
   "id": "89b0c666",
   "metadata": {},
   "source": [
    "We now set up a function to compare the covariance functions on the reference grid."
   ]
  },
  {
   "cell_type": "code",
   "execution_count": null,
   "id": "28064d5e",
   "metadata": {},
   "outputs": [],
   "source": [
    "def compute_cov_diff(C1,C2,tol=1e-10):\n",
    "    N = np.sqrt(C1.shape[0])\n",
    "    #N = C1.shape[0]\n",
    "    C1_sqrt = np.real(sqrtm(C1))\n",
    "    rel_error_1 = np.linalg.norm(C1_sqrt @ C1_sqrt - C1)/np.linalg.norm(C1)\n",
    "    assert rel_error_1 < tol\n",
    "    \n",
    "    C12 = C1_sqrt @ C2 @ C1_sqrt\n",
    "    C12_sqrt = np.real(sqrtm(C12))\n",
    "    rel_error_12 = np.linalg.norm(C12_sqrt @ C12_sqrt - C12)/np.linalg.norm(C12)\n",
    "    assert rel_error_12 < tol\n",
    "    \n",
    "    hSq = (1/(N-1))**2\n",
    "    return hSq*(np.trace(C1) + np.trace(C2) - 2*np.trace(C12_sqrt))"
   ]
  },
  {
   "cell_type": "markdown",
   "id": "61386f83",
   "metadata": {},
   "source": [
    "We now set up a function to compute the Wasserstein distance between the statFEM posteriors."
   ]
  },
  {
   "cell_type": "code",
   "execution_count": null,
   "id": "3e14ae0b",
   "metadata": {},
   "outputs": [],
   "source": [
    "def W(μ_1,μ_2,Σ_1,Σ_2,J_norm):\n",
    "    mean_error = errornorm(μ_1,μ_2,'L2',mesh=UnitSquareMesh(J_norm,J_norm))\n",
    "    cov_error = compute_cov_diff(Σ_1,Σ_2)\n",
    "    cov_error = np.sqrt(np.abs(cov_error))\n",
    "    error = mean_error + cov_error\n",
    "    return error"
   ]
  },
  {
   "cell_type": "markdown",
   "id": "5a690e54",
   "metadata": {},
   "source": [
    "In the interests of memory efficiency we will again create a function which will compute the ratios of errors by succesively refining the FE mesh as done in the section <a href=\"/statFEM/twoDim_prior_results.html\"><code>2-D prior toy example</code></a>."
   ]
  },
  {
   "cell_type": "code",
   "execution_count": null,
   "id": "1245af9a",
   "metadata": {},
   "outputs": [],
   "source": [
    "def refine(h,n,f_bar,k_f,ϵ,Y,v_dat,grid,J_norm):\n",
    "    # set up empty lists to hold h-values and errors (this being the ratios)\n",
    "    h_range = []\n",
    "    errors = []\n",
    "    # get the statFEM posterior for h and h/2\n",
    "    μ_1, Σ_1 = fem_posterior(h,f_bar,k_f,ϵ,Y,v_dat,grid)\n",
    "    μ_2, Σ_2 = fem_posterior(h/2,f_bar,k_f,ϵ,Y,v_dat,grid)\n",
    "    # compute the distance between these and store in numerator variable\n",
    "    numerator = W(μ_1,μ_2,Σ_1,Σ_2,J_norm)\n",
    "    # succesively refine the mesh by halving and do this n times\n",
    "    for i in tqdm(range(n)):\n",
    "        # store mean and cov for h/2 in storage for h\n",
    "        μ_1, Σ_1 = μ_2, Σ_2\n",
    "        # in storage for h/2 store mean and cov for h/4\n",
    "        μ_2, Σ_2 = fem_posterior(h/4,f_bar,k_f,ϵ,Y,v_dat,grid)\n",
    "        # compute the distance between the posteriors for h/2 and h/4\n",
    "        # and store in denominator variable\n",
    "        denominator = W(μ_1,μ_2,Σ_1,Σ_2,J_norm)\n",
    "        # compute the ratio and store in error\n",
    "        error = numerator/denominator\n",
    "        # append the current value of h and the ratio\n",
    "        h_range.append(h)\n",
    "        errors.append(error)\n",
    "        # store denominator in numerator and halve h\n",
    "        numerator = denominator\n",
    "        h = h/2\n",
    "    # return the list of h-values together with the ratios for these values\n",
    "    return h_range,errors"
   ]
  },
  {
   "cell_type": "markdown",
   "id": "823fda8b",
   "metadata": {},
   "source": [
    "We now set up a list of starting $h$ values and number of refinements $n$ to get a decent number of ratios to approximate $p$. We also set up the `J_norm` variable needed to control the grid on which the mean error is computed in the Wasserstein distance."
   ]
  },
  {
   "cell_type": "code",
   "execution_count": null,
   "id": "b0fe24f2",
   "metadata": {},
   "outputs": [],
   "source": [
    "my_list = [(0.25,4),(0.2,3),(0.175,3),(0.176,3),(0.177,3),(0.178,3),(0.179,3),(0.18,3),(0.21,3),(0.215,3),(0.1,2),(0.3,4),(0.31,4),(0.315,4),(0.24,3),(0.245,3),(0.14,2),(0.16,2),(0.15,2)]\n",
    "J_norm = 40"
   ]
  },
  {
   "cell_type": "markdown",
   "id": "0992361a",
   "metadata": {},
   "source": [
    "We now compute the results: "
   ]
  },
  {
   "cell_type": "code",
   "execution_count": null,
   "id": "184b2ad7",
   "metadata": {},
   "outputs": [
    {
     "data": {
      "application/vnd.jupyter.widget-view+json": {
       "model_id": "8554acde88194274add53eb226fe0256",
       "version_major": 2,
       "version_minor": 0
      },
      "text/plain": [
       "Outer loop:   0%|          | 0/19 [00:00<?, ?it/s]"
      ]
     },
     "metadata": {},
     "output_type": "display_data"
    },
    {
     "data": {
      "application/vnd.jupyter.widget-view+json": {
       "model_id": "e002cdc601a941a3a6020ac8dbff9bef",
       "version_major": 2,
       "version_minor": 0
      },
      "text/plain": [
       "  0%|          | 0/4 [00:00<?, ?it/s]"
      ]
     },
     "metadata": {},
     "output_type": "display_data"
    },
    {
     "data": {
      "application/vnd.jupyter.widget-view+json": {
       "model_id": "0c3cf5c33b0b41b395bcd25d6f85160f",
       "version_major": 2,
       "version_minor": 0
      },
      "text/plain": [
       "  0%|          | 0/3 [00:00<?, ?it/s]"
      ]
     },
     "metadata": {},
     "output_type": "display_data"
    },
    {
     "data": {
      "application/vnd.jupyter.widget-view+json": {
       "model_id": "9a222f09f94d4d0f8972654683d1742e",
       "version_major": 2,
       "version_minor": 0
      },
      "text/plain": [
       "  0%|          | 0/3 [00:00<?, ?it/s]"
      ]
     },
     "metadata": {},
     "output_type": "display_data"
    },
    {
     "data": {
      "application/vnd.jupyter.widget-view+json": {
       "model_id": "93b695ad09b3485d97978cafe62c7404",
       "version_major": 2,
       "version_minor": 0
      },
      "text/plain": [
       "  0%|          | 0/3 [00:00<?, ?it/s]"
      ]
     },
     "metadata": {},
     "output_type": "display_data"
    },
    {
     "data": {
      "application/vnd.jupyter.widget-view+json": {
       "model_id": "1c8bb0d684334bf088405fe29584c164",
       "version_major": 2,
       "version_minor": 0
      },
      "text/plain": [
       "  0%|          | 0/3 [00:00<?, ?it/s]"
      ]
     },
     "metadata": {},
     "output_type": "display_data"
    },
    {
     "data": {
      "application/vnd.jupyter.widget-view+json": {
       "model_id": "7e0cb5f4bd1d4a8b8d4f4ff045fcdd57",
       "version_major": 2,
       "version_minor": 0
      },
      "text/plain": [
       "  0%|          | 0/3 [00:00<?, ?it/s]"
      ]
     },
     "metadata": {},
     "output_type": "display_data"
    },
    {
     "data": {
      "application/vnd.jupyter.widget-view+json": {
       "model_id": "15a80fc68dd7418dac9d0db6251f3f9d",
       "version_major": 2,
       "version_minor": 0
      },
      "text/plain": [
       "  0%|          | 0/3 [00:00<?, ?it/s]"
      ]
     },
     "metadata": {},
     "output_type": "display_data"
    },
    {
     "data": {
      "application/vnd.jupyter.widget-view+json": {
       "model_id": "33a89321460643749892bf1b65fe1080",
       "version_major": 2,
       "version_minor": 0
      },
      "text/plain": [
       "  0%|          | 0/3 [00:00<?, ?it/s]"
      ]
     },
     "metadata": {},
     "output_type": "display_data"
    },
    {
     "data": {
      "application/vnd.jupyter.widget-view+json": {
       "model_id": "5e4217aa599d4e44ba34ed7338392fed",
       "version_major": 2,
       "version_minor": 0
      },
      "text/plain": [
       "  0%|          | 0/3 [00:00<?, ?it/s]"
      ]
     },
     "metadata": {},
     "output_type": "display_data"
    },
    {
     "data": {
      "application/vnd.jupyter.widget-view+json": {
       "model_id": "cf80e471a63a4767b93440e51ecd4ff2",
       "version_major": 2,
       "version_minor": 0
      },
      "text/plain": [
       "  0%|          | 0/3 [00:00<?, ?it/s]"
      ]
     },
     "metadata": {},
     "output_type": "display_data"
    },
    {
     "data": {
      "application/vnd.jupyter.widget-view+json": {
       "model_id": "bc8786cc8fe843279b60825f68afbd3c",
       "version_major": 2,
       "version_minor": 0
      },
      "text/plain": [
       "  0%|          | 0/2 [00:00<?, ?it/s]"
      ]
     },
     "metadata": {},
     "output_type": "display_data"
    },
    {
     "data": {
      "application/vnd.jupyter.widget-view+json": {
       "model_id": "3b0f15cd67c44ea0863fc431043390dc",
       "version_major": 2,
       "version_minor": 0
      },
      "text/plain": [
       "  0%|          | 0/4 [00:00<?, ?it/s]"
      ]
     },
     "metadata": {},
     "output_type": "display_data"
    },
    {
     "data": {
      "application/vnd.jupyter.widget-view+json": {
       "model_id": "e1a4e4dfbd65407db80197717c85f467",
       "version_major": 2,
       "version_minor": 0
      },
      "text/plain": [
       "  0%|          | 0/4 [00:00<?, ?it/s]"
      ]
     },
     "metadata": {},
     "output_type": "display_data"
    },
    {
     "data": {
      "application/vnd.jupyter.widget-view+json": {
       "model_id": "c939bb85329e4152a37db28cc5ee596a",
       "version_major": 2,
       "version_minor": 0
      },
      "text/plain": [
       "  0%|          | 0/4 [00:00<?, ?it/s]"
      ]
     },
     "metadata": {},
     "output_type": "display_data"
    },
    {
     "data": {
      "application/vnd.jupyter.widget-view+json": {
       "model_id": "bb01f841756f4e88b713563400739278",
       "version_major": 2,
       "version_minor": 0
      },
      "text/plain": [
       "  0%|          | 0/3 [00:00<?, ?it/s]"
      ]
     },
     "metadata": {},
     "output_type": "display_data"
    },
    {
     "data": {
      "application/vnd.jupyter.widget-view+json": {
       "model_id": "ae8edd830e794b19a94863270cc33ae4",
       "version_major": 2,
       "version_minor": 0
      },
      "text/plain": [
       "  0%|          | 0/3 [00:00<?, ?it/s]"
      ]
     },
     "metadata": {},
     "output_type": "display_data"
    },
    {
     "data": {
      "application/vnd.jupyter.widget-view+json": {
       "model_id": "bcdd4a8c38cc4e22bd3f964c5397277a",
       "version_major": 2,
       "version_minor": 0
      },
      "text/plain": [
       "  0%|          | 0/2 [00:00<?, ?it/s]"
      ]
     },
     "metadata": {},
     "output_type": "display_data"
    },
    {
     "data": {
      "application/vnd.jupyter.widget-view+json": {
       "model_id": "05df9d9f6c194029b1042d4eb2c4308f",
       "version_major": 2,
       "version_minor": 0
      },
      "text/plain": [
       "  0%|          | 0/2 [00:00<?, ?it/s]"
      ]
     },
     "metadata": {},
     "output_type": "display_data"
    },
    {
     "data": {
      "application/vnd.jupyter.widget-view+json": {
       "model_id": "8de9044e9e52448ba556fc1621d1e930",
       "version_major": 2,
       "version_minor": 0
      },
      "text/plain": [
       "  0%|          | 0/2 [00:00<?, ?it/s]"
      ]
     },
     "metadata": {},
     "output_type": "display_data"
    },
    {
     "name": "stdout",
     "output_type": "stream",
     "text": [
      "CPU times: user 16h 51min 12s, sys: 1d 13h 56min 24s, total: 2d 6h 47min 36s\n",
      "Wall time: 7h 9min 40s\n"
     ]
    }
   ],
   "source": [
    "%%time\n",
    "h_range = []\n",
    "errors = []\n",
    "np.random.seed(235)\n",
    "for h,n in tqdm(my_list,desc='Outer loop'):\n",
    "    h_range_tmp, errors_tmp = refine(h,n,f_bar,k_f,ϵ,Y,v_dat,grid,J_norm)\n",
    "    h_range.extend(h_range_tmp)\n",
    "    errors.extend(errors_tmp)"
   ]
  },
  {
   "cell_type": "markdown",
   "id": "904a5c12",
   "metadata": {},
   "source": [
    "We now sort these results by $h$."
   ]
  },
  {
   "cell_type": "code",
   "execution_count": null,
   "id": "5e2850ea",
   "metadata": {},
   "outputs": [],
   "source": [
    "#hide\n",
    "# import pickle\n",
    "# results = {'h':h_range,'ratios':errors,'ϵ':ϵ}\n",
    "# with open('2D_posterior_results_finer_less_noise','wb') as f:\n",
    "#     pickle.dump(results,f)"
   ]
  },
  {
   "cell_type": "code",
   "execution_count": null,
   "id": "c3303eb4",
   "metadata": {},
   "outputs": [],
   "source": [
    "#hide\n",
    "# import pickle\n",
    "# with open('2D_posterior_results_finer','rb') as f:\n",
    "#     results = pickle.load(f)\n",
    "# h_range = results['h']\n",
    "# errors = results['ratios']"
   ]
  },
  {
   "cell_type": "code",
   "execution_count": null,
   "id": "55b023f7",
   "metadata": {},
   "outputs": [],
   "source": [
    "h_range_array = np.array(h_range)\n",
    "errors_array = np.array(errors)"
   ]
  },
  {
   "cell_type": "code",
   "execution_count": null,
   "id": "440ec27d",
   "metadata": {},
   "outputs": [],
   "source": [
    "argInd = np.argsort(h_range_array)\n",
    "hs = h_range_array[argInd]\n",
    "es = errors_array[argInd]\n",
    "hs,hs_ind = np.unique(hs,return_index=True)\n",
    "es = es[hs_ind]"
   ]
  },
  {
   "cell_type": "markdown",
   "id": "8cc9d867",
   "metadata": {},
   "source": [
    "We now plot the base-2 logarithm of the ratios against $h$ below:"
   ]
  },
  {
   "cell_type": "code",
   "execution_count": null,
   "id": "93529c7d",
   "metadata": {},
   "outputs": [
    {
     "data": {
      "image/png": "[encoded data removed]",
      "text/plain": [
       "<Figure size 720x432 with 1 Axes>"
      ]
     },
     "metadata": {
      "needs_background": "light"
     },
     "output_type": "display_data"
    }
   ],
   "source": [
    "#hide_input\n",
    "plt.plot(hs,np.log2(es),c='r')\n",
    "plt.xlabel('$h$')\n",
    "plt.title('Base-2 log plot of the ratios against $h$')\n",
    "plt.hlines(2.0,hs[0],hs[-1],colors='black',linestyles='--')\n",
    "plt.grid()\n",
    "#plt.savefig('2D_posterior_results.png',dpi=300,bbox_inches='tight',facecolor='w')\n",
    "plt.show()"
   ]
  },
  {
   "cell_type": "markdown",
   "id": "97d00bee",
   "metadata": {},
   "source": [
    "We can see from the above plot that the logarithms seems to be approaching $p=2$ as $h$ gets small just as predicted. However, the results aren't that smooth and they haven't seemed to settle on $p=2$ yet. This can be due to memory constraints meaning we cannot use small enough $h$. We thus smooth the above results via two approaches:\n",
    "\n",
    "- We take a cumulative average of the ratios and then apply $\\log_2$.\n",
    "- We first apply $\\log_2$ to the ratios and then taking a cumulative average.\n",
    "\n",
    "In both cases we take the rolling average starting with large $h$. We choose a cut-off point of $h=0.15$, i.e. we discard any results for $h>0.15$.\n",
    "\n",
    "The results are shown below:"
   ]
  },
  {
   "cell_type": "markdown",
   "id": "5b0a3b3c",
   "metadata": {},
   "source": [
    "From the smoothed results above we can see more clearly that the ratios are converging to around $p=2$."
   ]
  },
  {
   "cell_type": "code",
   "execution_count": null,
   "id": "a1bb4b3d",
   "metadata": {},
   "outputs": [
    {
     "data": {
      "text/plain": [
       "array([0.03125 , 0.0375  , 0.03875 , 0.039375, 0.04375 , 0.044   ,\n",
       "       0.04425 , 0.0445  , 0.04475 , 0.045   , 0.05    , 0.0525  ,\n",
       "       0.05375 , 0.06    , 0.06125 , 0.0625  , 0.07    , 0.075   ,\n",
       "       0.0775  , 0.07875 , 0.08    , 0.0875  , 0.088   , 0.0885  ,\n",
       "       0.089   , 0.0895  , 0.09    , 0.1     , 0.105   , 0.1075  ,\n",
       "       0.12    , 0.1225  , 0.125   , 0.14    , 0.15    ])"
      ]
     },
     "execution_count": null,
     "metadata": {},
     "output_type": "execute_result"
    }
   ],
   "source": [
    "hs[:-18]"
   ]
  },
  {
   "cell_type": "code",
   "execution_count": null,
   "id": "08f7e02d",
   "metadata": {},
   "outputs": [
    {
     "data": {
      "image/png": "[encoded data removed]",
      "text/plain": [
       "<Figure size 720x432 with 1 Axes>"
      ]
     },
     "metadata": {
      "needs_background": "light"
     },
     "output_type": "display_data"
    }
   ],
   "source": [
    "#hide_input\n",
    "# get the cumulative average of es:\n",
    "i = -18\n",
    "es_trimmed = es[:i]\n",
    "es_av = np.cumsum(np.log2(es_trimmed[::-1]))/np.arange(1,len(es_trimmed)+1)\n",
    "es_av_1 = np.log2(np.cumsum(es_trimmed[::-1])/np.arange(1,len(es_trimmed)+1))\n",
    "plt.plot(es_av,label='cum_av_of_log')\n",
    "plt.plot(es_av_1,label='log_of_cum_av')\n",
    "#plt.plot(es_av_1,c='r')\n",
    "#plt.hlines(2.0,0,len(es_av_1),colors='black',linestyles='--')\n",
    "#plt.ylim((1.8,2.1))\n",
    "#plt.xlabel('index')\n",
    "plt.legend()\n",
    "#plt.title('Base-2 logarithms of the cumulative averages of the ratios for $h\\leq 0.15$')\n",
    "plt.grid()\n",
    "#plt.savefig('2D_posterior_results_smoothed.png',dpi=300,bbox_inches='tight',facecolor='w')\n",
    "plt.show()"
   ]
  },
  {
   "cell_type": "markdown",
   "id": "620fe943",
   "metadata": {},
   "source": [
    "From the smoothed results above we can see more clearly that the ratios are converging to around $p=2$. In fact, discarding the values corresponding to $h>0.15$ seems to result in the the rolling average converging to a value slightly greater than $2$."
   ]
  },
  {
   "cell_type": "code",
   "execution_count": null,
   "id": "f370d98c",
   "metadata": {},
   "outputs": [],
   "source": [
    "import pickle\n",
    "results = {'h':h_range,'ratios':errors,'ϵ':ϵ}\n",
    "with open('2D_posterior_results_full_noise_%.3f' % ϵ,'wb') as f:\n",
    "    pickle.dump(results,f)"
   ]
  },
  {
   "cell_type": "code",
   "execution_count": null,
   "id": "3ffac512-64c1-4334-b771-d38afa5043ec",
   "metadata": {},
   "outputs": [],
   "source": []
  }
 ],
 "metadata": {
  "kernelspec": {
   "display_name": "fenicsproject18",
   "language": "python",
   "name": "fenicsproject18"
  }
 },
 "nbformat": 4,
 "nbformat_minor": 5
}
