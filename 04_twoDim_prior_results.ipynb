{
 "cells": [
  {
   "cell_type": "code",
   "execution_count": null,
   "id": "3fdb0992",
   "metadata": {},
   "outputs": [],
   "source": [
    "# default_exp"
   ]
  },
  {
   "cell_type": "code",
   "execution_count": null,
   "id": "33c5f7bc",
   "metadata": {},
   "outputs": [],
   "source": [
    "#hide\n",
    "#all_slow"
   ]
  },
  {
   "cell_type": "markdown",
   "id": "8cdf9df1",
   "metadata": {},
   "source": [
    "# 2-D prior toy example\n",
    "\n",
    "> Demonstration of prior error bounds for a 2-D toy example"
   ]
  },
  {
   "cell_type": "markdown",
   "id": "6b817ae4",
   "metadata": {},
   "source": [
    "In this notebook we will demonstrate the error bounds for the statFEM prior for the toy example introduced in <a href=\"/statFEM/twoDim.html#2-dimensional-case-(PDE)\"><code>twoDim</code></a>. We first import some required packages."
   ]
  },
  {
   "cell_type": "code",
   "execution_count": null,
   "id": "354f84b8",
   "metadata": {},
   "outputs": [],
   "source": [
    "from dolfin import *\n",
    "import numpy as np\n",
    "import matplotlib.pyplot as plt\n",
    "plt.rcParams['figure.figsize'] = (10,6)\n",
    "# import required functions from twoDim\n",
    "from statFEM.twoDim import mean_assembler, kernMat, cov_assembler\n",
    "from scipy.linalg import sqrtm\n",
    "import sympy; sympy.init_printing()\n",
    "from tqdm.notebook import tqdm\n",
    "# code for displaying matrices nicely\n",
    "def display_matrix(m):\n",
    "    display(sympy.Matrix(m))"
   ]
  },
  {
   "cell_type": "markdown",
   "id": "e2531b90",
   "metadata": {},
   "source": [
    "Since we do not have ready access to a solution operator for this problem we will utilise a different approach to demonstrate the appropriate rate for the error bounds. This approach involves comparing the statFEM distributions on finer and finer meshes as follows. We first assume we have the following error bound:\n",
    "\n",
    "$$W(\\nu_{\\star},\\nu_{h})\\leq\\mathcal{O}(h^{p}) \\text{ as } h\\rightarrow 0$$\n",
    "\n",
    "From this we have:\n",
    "\n",
    "$$W(\\nu_{\\star},\\nu_{h})=Ch^{p}+\\mathcal{O}(h^{p+1})$$ \n",
    "\n",
    "The triangle inequality then yields:\n",
    "\n",
    "$$W(\\nu_{h},\\nu_{h/2})\\leq W(\\nu_{h},\\nu_{\\star}) + W(\\nu_{\\star},\\nu_{h/2})$$\n",
    "\n",
    "And so with the above we obtain:\n",
    "\n",
    "$$W(\\nu_{h},\\nu_{h/2})=Ch^{p}+C(h/2)^{p}+\\mathcal{O}(h^{p+1})$$\n",
    "\n",
    "Similarly we have:\n",
    "\n",
    "$$W(\\nu_{h/2},\\nu_{h/4})=C(h/2)^{p}+C(h/4)^{p}+\\mathcal{O}(h^{p+1})$$\n",
    "\n",
    "Dividing the two above equations yields:\n",
    "\n",
    "$$\\frac{W(\\nu_{h},\\nu_{h/2})}{W(\\nu_{h/2},\\nu_{h/4})}=\\frac{Ch^{p}+C(h/2)^{p}+\\mathcal{O}(h^{p+1})}{C(h/2)^{p}+C(h/4)^{p}+\\mathcal{O}(h^{p+1})}=\\frac{1-2^{-p}+\\mathcal{O}(h)}{2^{-p}-2^{-2p}+\\mathcal{O}(h)}=2^{p}+\\mathcal{O}(h)$$\n",
    "\n",
    "From which it follows:\n",
    "\n",
    "$$\\log_{2}\\frac{W(\\nu_{h},\\nu_{h/2})}{W(\\nu_{h/2},\\nu_{h/4})}=p+\\mathcal{O}(h)$$\n",
    "\n",
    "Note that this ratio above does not rely on having access to the true prior $\\nu_{\\star}$.\n",
    "\n",
    "We will thus compare the errors on a succesively refined mesh and take the base-2 log of the above ratio. We hope to see these logarithms converge to $p=2$."
   ]
  },
  {
   "cell_type": "markdown",
   "id": "242e557f",
   "metadata": {},
   "source": [
    "We now set up the mean and kernel functions for the random forcing term $f$."
   ]
  },
  {
   "cell_type": "code",
   "execution_count": null,
   "id": "6ddcbd15",
   "metadata": {},
   "outputs": [],
   "source": [
    "# set up mean and kernel functions\n",
    "f_bar = Constant(1.0)\n",
    "\n",
    "l_f = 0.4\n",
    "σ_f = 0.1\n",
    "\n",
    "def k_f(x):\n",
    "    return (σ_f**2)*np.exp(-(x**2)/(2*(l_f**2)))"
   ]
  },
  {
   "cell_type": "markdown",
   "id": "66640463",
   "metadata": {},
   "source": [
    "We now set up a function to get the statFEM prior for a FE mesh size $h$, using functions from <a href=\"/statFEM/twoDim.html#\"><code>twoDim</code></a>."
   ]
  },
  {
   "cell_type": "code",
   "execution_count": null,
   "id": "d450240b",
   "metadata": {},
   "outputs": [],
   "source": [
    "def fem_prior(h,f_bar,k_f,grid):\n",
    "    J = int(np.round(1/h))\n",
    "    μ = mean_assembler(h,f_bar)\n",
    "    Σ = cov_assembler(J,k_f,grid,False,True)\n",
    "    return μ,Σ"
   ]
  },
  {
   "cell_type": "markdown",
   "id": "a38cac40",
   "metadata": {},
   "source": [
    "We now set up a reference grid on which we will compare the covariance matrices."
   ]
  },
  {
   "cell_type": "code",
   "execution_count": null,
   "id": "6cfe93ea",
   "metadata": {},
   "outputs": [],
   "source": [
    "N = 41\n",
    "x_range = np.linspace(0,1,N)\n",
    "grid = np.array([[x,y] for x in x_range for y in x_range])"
   ]
  },
  {
   "cell_type": "markdown",
   "id": "1c83e55a",
   "metadata": {},
   "source": [
    "We now set up a function to compare the covariance functions on the reference grid."
   ]
  },
  {
   "cell_type": "code",
   "execution_count": null,
   "id": "44442a43",
   "metadata": {},
   "outputs": [],
   "source": [
    "def compute_cov_diff(C1,C2,tol=1e-10):\n",
    "    N = np.sqrt(C1.shape[0])\n",
    "    #N = C1.shape[0]\n",
    "    C1_sqrt = np.real(sqrtm(C1))\n",
    "    rel_error_1 = np.linalg.norm(C1_sqrt @ C1_sqrt - C1)/np.linalg.norm(C1)\n",
    "    assert rel_error_1 < tol\n",
    "    \n",
    "    C12 = C1_sqrt @ C2 @ C1_sqrt\n",
    "    C12_sqrt = np.real(sqrtm(C12))\n",
    "    rel_error_12 = np.linalg.norm(C12_sqrt @ C12_sqrt - C12)/np.linalg.norm(C12)\n",
    "    assert rel_error_12 < tol\n",
    "    \n",
    "    hSq = (1/(N-1))**2\n",
    "    return hSq*(np.trace(C1) + np.trace(C2) - 2*np.trace(C12_sqrt))"
   ]
  },
  {
   "cell_type": "markdown",
   "id": "cc481005",
   "metadata": {},
   "source": [
    "We now set up a function to compute the Wasserstein distance between the statFEM priors."
   ]
  },
  {
   "cell_type": "code",
   "execution_count": null,
   "id": "3a7317e1",
   "metadata": {},
   "outputs": [],
   "source": [
    "def W(μ_1,μ_2,Σ_1,Σ_2):\n",
    "    mean_error = errornorm(μ_1,μ_2,'L2')\n",
    "    cov_error = compute_cov_diff(Σ_1,Σ_2)\n",
    "    cov_error = np.sqrt(np.abs(cov_error))\n",
    "    error = mean_error + cov_error\n",
    "    return error"
   ]
  },
  {
   "cell_type": "markdown",
   "id": "29670c5d",
   "metadata": {},
   "source": [
    "In the interests of memory efficiency we will now create a function which will compute the ratios of errors mentioned above by succesively refining the FE mesh."
   ]
  },
  {
   "cell_type": "code",
   "execution_count": null,
   "id": "d4f43c4f",
   "metadata": {},
   "outputs": [],
   "source": [
    "def refine(h,n,f_bar,k_f,grid):\n",
    "    # set up empty lists to hold h-values and errors (this being the ratios)\n",
    "    h_range = []\n",
    "    errors = []\n",
    "    # get the statFEM prior for h and h/2\n",
    "    μ_1, Σ_1 = fem_prior(h,f_bar,k_f,grid)\n",
    "    μ_2, Σ_2 = fem_prior(h/2,f_bar,k_f,grid)\n",
    "    # compute the distance between these and store in numerator variable\n",
    "    numerator = W(μ_1,μ_2,Σ_1,Σ_2)\n",
    "    # succesively refine the mesh by halving and do this n times\n",
    "    for i in tqdm(range(n)):\n",
    "        # store mean and cov for h/2 in storage for h\n",
    "        μ_1, Σ_1 = μ_2, Σ_2 \n",
    "        # in storage for h/2 store mean and cov for h/4\n",
    "        μ_2, Σ_2 = fem_prior(h/4,f_bar,k_f,grid)\n",
    "        # compute the distance between the priors for h/2 and h/4\n",
    "        # and store in denominator variable\n",
    "        denominator = W(μ_1,μ_2,Σ_1,Σ_2)\n",
    "        # compute the ratio and store in error\n",
    "        error = numerator/denominator\n",
    "        # append the current value of h and the ratio\n",
    "        h_range.append(h)\n",
    "        errors.append(error)\n",
    "        # store denominator in numerator and halve h\n",
    "        numerator = denominator\n",
    "        h = h/2\n",
    "    # return the list of h-values together with the ratios for these values\n",
    "    return h_range,errors"
   ]
  },
  {
   "cell_type": "markdown",
   "id": "a27d149b",
   "metadata": {},
   "source": [
    "> Note: The above function will compute the ratio $\\frac{W(\\nu_{h},\\nu_{h/2})}{W(\\nu_{h/2},\\nu_{h/4})}$ for the values $h,h/2,\\cdots,h/2^{n-1}$."
   ]
  },
  {
   "cell_type": "markdown",
   "id": "61be823b",
   "metadata": {},
   "source": [
    "We now set up a list of starting $h$ values and number of refinements $n$ to get a decent number of ratios to approximate $p$."
   ]
  },
  {
   "cell_type": "code",
   "execution_count": null,
   "id": "0d6b6a9c",
   "metadata": {},
   "outputs": [],
   "source": [
    "my_list = [(0.25,4),(0.2,3),(0.175,3),(0.22,4),(0.176,3),(0.177,3),(0.178,3),(0.179,3),(0.18,3),(0.21,3),(0.215,3),(0.1,2),(0.3,4),(0.31,4),(0.315,4),(0.24,4),(0.245,4),(0.25,4),(0.14,2),(0.16,2),(0.15,2),(0.18,2)]"
   ]
  },
  {
   "cell_type": "markdown",
   "id": "4929a34c",
   "metadata": {},
   "source": [
    "> Warning: As we are now in 2-D the matrices needed to compute the statFEM prior get very large in size as $h$ decreases. Due to memory constraints we must thus make sure $h$ does not get too small."
   ]
  },
  {
   "cell_type": "markdown",
   "id": "49f4d257",
   "metadata": {},
   "source": [
    "We now compute the results:"
   ]
  },
  {
   "cell_type": "code",
   "execution_count": null,
   "id": "e4311ad1",
   "metadata": {},
   "outputs": [
    {
     "data": {
      "application/vnd.jupyter.widget-view+json": {
       "model_id": "ff1f19e94c3e4789b254b4f58dd1ab7b",
       "version_major": 2,
       "version_minor": 0
      },
      "text/plain": [
       "Outer loop:   0%|          | 0/22 [00:00<?, ?it/s]"
      ]
     },
     "metadata": {},
     "output_type": "display_data"
    },
    {
     "data": {
      "application/vnd.jupyter.widget-view+json": {
       "model_id": "9716a76eb8d445b2839e71b2d8924e7e",
       "version_major": 2,
       "version_minor": 0
      },
      "text/plain": [
       "  0%|          | 0/4 [00:00<?, ?it/s]"
      ]
     },
     "metadata": {},
     "output_type": "display_data"
    },
    {
     "data": {
      "application/vnd.jupyter.widget-view+json": {
       "model_id": "b7953ea707a44eb9aae4617874beca15",
       "version_major": 2,
       "version_minor": 0
      },
      "text/plain": [
       "  0%|          | 0/3 [00:00<?, ?it/s]"
      ]
     },
     "metadata": {},
     "output_type": "display_data"
    },
    {
     "data": {
      "application/vnd.jupyter.widget-view+json": {
       "model_id": "d56d8a0ecd594816a61bd800fe302d3a",
       "version_major": 2,
       "version_minor": 0
      },
      "text/plain": [
       "  0%|          | 0/3 [00:00<?, ?it/s]"
      ]
     },
     "metadata": {},
     "output_type": "display_data"
    },
    {
     "data": {
      "application/vnd.jupyter.widget-view+json": {
       "model_id": "800bfef8068a4f5db50e8a4da6e013ad",
       "version_major": 2,
       "version_minor": 0
      },
      "text/plain": [
       "  0%|          | 0/4 [00:00<?, ?it/s]"
      ]
     },
     "metadata": {},
     "output_type": "display_data"
    },
    {
     "data": {
      "application/vnd.jupyter.widget-view+json": {
       "model_id": "2375b68e730f43f5a68092bc6a3970cb",
       "version_major": 2,
       "version_minor": 0
      },
      "text/plain": [
       "  0%|          | 0/3 [00:00<?, ?it/s]"
      ]
     },
     "metadata": {},
     "output_type": "display_data"
    },
    {
     "data": {
      "application/vnd.jupyter.widget-view+json": {
       "model_id": "40c1b00cb2354378be479e5f6ffc4ad2",
       "version_major": 2,
       "version_minor": 0
      },
      "text/plain": [
       "  0%|          | 0/3 [00:00<?, ?it/s]"
      ]
     },
     "metadata": {},
     "output_type": "display_data"
    },
    {
     "data": {
      "application/vnd.jupyter.widget-view+json": {
       "model_id": "f12cf78ca95140fdb3ba6781ed42eecf",
       "version_major": 2,
       "version_minor": 0
      },
      "text/plain": [
       "  0%|          | 0/3 [00:00<?, ?it/s]"
      ]
     },
     "metadata": {},
     "output_type": "display_data"
    },
    {
     "data": {
      "application/vnd.jupyter.widget-view+json": {
       "model_id": "a053f405adf743e4b0d96316bdc9b554",
       "version_major": 2,
       "version_minor": 0
      },
      "text/plain": [
       "  0%|          | 0/3 [00:00<?, ?it/s]"
      ]
     },
     "metadata": {},
     "output_type": "display_data"
    },
    {
     "data": {
      "application/vnd.jupyter.widget-view+json": {
       "model_id": "ff25945184554ea792d4352ce19dbf4e",
       "version_major": 2,
       "version_minor": 0
      },
      "text/plain": [
       "  0%|          | 0/3 [00:00<?, ?it/s]"
      ]
     },
     "metadata": {},
     "output_type": "display_data"
    },
    {
     "data": {
      "application/vnd.jupyter.widget-view+json": {
       "model_id": "fbed37e75ebb45089714f06eb1a9b2fb",
       "version_major": 2,
       "version_minor": 0
      },
      "text/plain": [
       "  0%|          | 0/3 [00:00<?, ?it/s]"
      ]
     },
     "metadata": {},
     "output_type": "display_data"
    },
    {
     "data": {
      "application/vnd.jupyter.widget-view+json": {
       "model_id": "fec6cc5db8a14ddcb000e61e7e427232",
       "version_major": 2,
       "version_minor": 0
      },
      "text/plain": [
       "  0%|          | 0/3 [00:00<?, ?it/s]"
      ]
     },
     "metadata": {},
     "output_type": "display_data"
    },
    {
     "data": {
      "application/vnd.jupyter.widget-view+json": {
       "model_id": "02ed0b7dd1bd4d9c9600485a3a13cde4",
       "version_major": 2,
       "version_minor": 0
      },
      "text/plain": [
       "  0%|          | 0/2 [00:00<?, ?it/s]"
      ]
     },
     "metadata": {},
     "output_type": "display_data"
    },
    {
     "data": {
      "application/vnd.jupyter.widget-view+json": {
       "model_id": "c267f3fe55ec46e6acb51120d6c8e309",
       "version_major": 2,
       "version_minor": 0
      },
      "text/plain": [
       "  0%|          | 0/4 [00:00<?, ?it/s]"
      ]
     },
     "metadata": {},
     "output_type": "display_data"
    },
    {
     "data": {
      "application/vnd.jupyter.widget-view+json": {
       "model_id": "98d63658853d45158cdfb3db6c94235f",
       "version_major": 2,
       "version_minor": 0
      },
      "text/plain": [
       "  0%|          | 0/4 [00:00<?, ?it/s]"
      ]
     },
     "metadata": {},
     "output_type": "display_data"
    },
    {
     "data": {
      "application/vnd.jupyter.widget-view+json": {
       "model_id": "7029ede8f2b74634bc12b1bdf4d6ad82",
       "version_major": 2,
       "version_minor": 0
      },
      "text/plain": [
       "  0%|          | 0/4 [00:00<?, ?it/s]"
      ]
     },
     "metadata": {},
     "output_type": "display_data"
    },
    {
     "data": {
      "application/vnd.jupyter.widget-view+json": {
       "model_id": "1ca30d5354164a09a49d4336701a1263",
       "version_major": 2,
       "version_minor": 0
      },
      "text/plain": [
       "  0%|          | 0/4 [00:00<?, ?it/s]"
      ]
     },
     "metadata": {},
     "output_type": "display_data"
    },
    {
     "data": {
      "application/vnd.jupyter.widget-view+json": {
       "model_id": "2e4c275abe164b4ea233ea4bfb9b9c0c",
       "version_major": 2,
       "version_minor": 0
      },
      "text/plain": [
       "  0%|          | 0/4 [00:00<?, ?it/s]"
      ]
     },
     "metadata": {},
     "output_type": "display_data"
    },
    {
     "data": {
      "application/vnd.jupyter.widget-view+json": {
       "model_id": "dd7bb78dd1b740cd9a7401cc76a8678d",
       "version_major": 2,
       "version_minor": 0
      },
      "text/plain": [
       "  0%|          | 0/4 [00:00<?, ?it/s]"
      ]
     },
     "metadata": {},
     "output_type": "display_data"
    },
    {
     "data": {
      "application/vnd.jupyter.widget-view+json": {
       "model_id": "78c6e6e6a01a48aca50727b82587d846",
       "version_major": 2,
       "version_minor": 0
      },
      "text/plain": [
       "  0%|          | 0/2 [00:00<?, ?it/s]"
      ]
     },
     "metadata": {},
     "output_type": "display_data"
    },
    {
     "data": {
      "application/vnd.jupyter.widget-view+json": {
       "model_id": "53d55c9124a949e2aef4b5cc347025a5",
       "version_major": 2,
       "version_minor": 0
      },
      "text/plain": [
       "  0%|          | 0/2 [00:00<?, ?it/s]"
      ]
     },
     "metadata": {},
     "output_type": "display_data"
    },
    {
     "data": {
      "application/vnd.jupyter.widget-view+json": {
       "model_id": "bdcb68148edf41cda56b0a84e3f19687",
       "version_major": 2,
       "version_minor": 0
      },
      "text/plain": [
       "  0%|          | 0/2 [00:00<?, ?it/s]"
      ]
     },
     "metadata": {},
     "output_type": "display_data"
    },
    {
     "data": {
      "application/vnd.jupyter.widget-view+json": {
       "model_id": "b17d427cf7ae4c6f889eebbb10671df3",
       "version_major": 2,
       "version_minor": 0
      },
      "text/plain": [
       "  0%|          | 0/2 [00:00<?, ?it/s]"
      ]
     },
     "metadata": {},
     "output_type": "display_data"
    },
    {
     "name": "stdout",
     "output_type": "stream",
     "text": [
      "CPU times: user 1h 15min 42s, sys: 43min 30s, total: 1h 59min 12s\n",
      "Wall time: 31min 30s\n"
     ]
    }
   ],
   "source": [
    "%%time\n",
    "h_range = []\n",
    "errors = []\n",
    "for h,n in tqdm(my_list,desc = 'Outer loop'):\n",
    "    h_range_tmp, errors_tmp = refine(h,n,f_bar,k_f,grid)\n",
    "    h_range.extend(h_range_tmp)\n",
    "    errors.extend(errors_tmp)"
   ]
  },
  {
   "cell_type": "code",
   "execution_count": null,
   "id": "1a02e50e",
   "metadata": {},
   "outputs": [],
   "source": [
    "#hide\n",
    "# import pickle\n",
    "# results = {'h':h_range,'ratios':errors}\n",
    "# with open('2D_prior_results_finer','wb') as f:\n",
    "#     pickle.dump(results,f)"
   ]
  },
  {
   "cell_type": "code",
   "execution_count": null,
   "id": "831e9174",
   "metadata": {},
   "outputs": [],
   "source": [
    "#hide\n",
    "import pickle\n",
    "with open('2D_prior_results_finer','rb') as f:\n",
    "    results = pickle.load(f)\n",
    "h_range = results['h']\n",
    "errors = results['ratios']"
   ]
  },
  {
   "cell_type": "markdown",
   "id": "24f79dcc",
   "metadata": {},
   "source": [
    "We now sort these results by $h$ and get rid of duplicates (from repeats in $h$-values)."
   ]
  },
  {
   "cell_type": "code",
   "execution_count": null,
   "id": "69b4b2f3",
   "metadata": {},
   "outputs": [],
   "source": [
    "h_range_array = np.array(h_range)\n",
    "errors_array = np.array(errors)"
   ]
  },
  {
   "cell_type": "code",
   "execution_count": null,
   "id": "e90490e9",
   "metadata": {},
   "outputs": [],
   "source": [
    "argInd = np.argsort(h_range_array)\n",
    "hs = h_range_array[argInd]\n",
    "es = errors_array[argInd]\n",
    "hs,hs_ind = np.unique(hs,return_index=True)\n",
    "es = es[hs_ind]"
   ]
  },
  {
   "cell_type": "markdown",
   "id": "631ff5f7",
   "metadata": {},
   "source": [
    "We now plot the base-2 logarithm of the ratios against $h$ below:"
   ]
  },
  {
   "cell_type": "code",
   "execution_count": null,
   "id": "91a267df",
   "metadata": {},
   "outputs": [
    {
     "data": {
      "image/png": "[encoded data removed]",
      "text/plain": [
       "<Figure size 720x432 with 1 Axes>"
      ]
     },
     "metadata": {
      "needs_background": "light"
     },
     "output_type": "display_data"
    }
   ],
   "source": [
    "#hide_input\n",
    "plt.plot(hs,np.log2(es),c='r')\n",
    "plt.xlabel('$h$')\n",
    "plt.title('Base-2 log plot of the ratios against $h$')\n",
    "plt.hlines(2.0,hs[0],hs[-1],colors='black',linestyles='--')\n",
    "plt.grid()\n",
    "plt.savefig('2D_prior_results.png',dpi=300,bbox_inches='tight',facecolor='w')\n",
    "plt.show()"
   ]
  },
  {
   "cell_type": "markdown",
   "id": "e9eca82a",
   "metadata": {},
   "source": [
    "We can see from the above plot that the logarithms seems to be approaching $p=2$ as $h$ gets small just as predicted. However, the results aren't that smooth and they haven't seemed to settle on $p=2$ yet. This can be due to memory constraints meaning we cannot use small enough $h$. We thus smooth the above results via two approaches:\n",
    "\n",
    "- We take a cumulative average of the ratios and then apply $\\log_2$.\n",
    "- We first apply $\\log_2$ to the ratios and then taking a cumulative average.\n",
    "\n",
    "In both cases we take the rolling average starting with large $h$. We choose a cut-off point of $h=0.15$, i.e. we discard any results for $h>0.15$.\n",
    "\n",
    "The results are shown below:"
   ]
  },
  {
   "cell_type": "code",
   "execution_count": null,
   "id": "92e582a7",
   "metadata": {},
   "outputs": [
    {
     "data": {
      "image/png": "[encoded data removed]",
      "text/plain": [
       "<Figure size 720x432 with 1 Axes>"
      ]
     },
     "metadata": {
      "needs_background": "light"
     },
     "output_type": "display_data"
    }
   ],
   "source": [
    "#hide_input\n",
    "# get the cumulative average of es:\n",
    "i = -19\n",
    "ES = es[:i]\n",
    "es_av = np.cumsum(np.log2(ES[::-1]))/np.arange(1,len(ES)+1)\n",
    "es_av_1 = np.log2(np.cumsum(ES[::-1])/np.arange(1,len(ES)+1))\n",
    "plt.plot(es_av,label='cum_av_of_log')\n",
    "#plt.plot(es_av_1,label='log_of_cum_av',c='r')\n",
    "plt.plot(es_av_1,label='log_of_cum_av')\n",
    "#plt.hlines(2.0,0,len(es_av_1),colors='black',linestyles='--')\n",
    "#plt.title('Base-2 logarithms of the cumulative averages of the ratios for $h\\leq 0.15$')\n",
    "#plt.xlabel('index')\n",
    "#plt.ylim((1.8,2.1))\n",
    "plt.legend()\n",
    "plt.grid()\n",
    "#plt.savefig('2D_prior_results_smoothed.png',dpi=300,bbox_inches='tight',facecolor='w')\n",
    "plt.show()"
   ]
  },
  {
   "cell_type": "markdown",
   "id": "b1849b79",
   "metadata": {},
   "source": [
    "From the smoothed results above we can see more clearly that the ratios are converging to around $p=2$. In fact, discarding the values corresponding to $h>0.15$ seems to result in the the rolling average converging to a value slightly greater than $2$."
   ]
  },
  {
   "cell_type": "code",
   "execution_count": null,
   "id": "c80cb5c7",
   "metadata": {},
   "outputs": [],
   "source": [
    "#hide\n",
    "# import pickle\n",
    "# results = {'h':h_range,'ratios':errors}\n",
    "# with open('2D_prior_results','wb') as f:\n",
    "#     pickle.dump(results,f)"
   ]
  },
  {
   "cell_type": "code",
   "execution_count": null,
   "id": "a98d987c",
   "metadata": {},
   "outputs": [],
   "source": []
  }
 ],
 "metadata": {
  "kernelspec": {
   "display_name": "fenicsproject18",
   "language": "python",
   "name": "fenicsproject18"
  }
 },
 "nbformat": 4,
 "nbformat_minor": 5
}
