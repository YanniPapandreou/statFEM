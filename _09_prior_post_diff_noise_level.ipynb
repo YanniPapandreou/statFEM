{
 "cells": [
  {
   "cell_type": "code",
   "execution_count": null,
   "id": "204a3902-9a7a-4885-bad9-20c4ebc00c29",
   "metadata": {},
   "outputs": [],
   "source": [
    "# default_exp"
   ]
  },
  {
   "cell_type": "code",
   "execution_count": null,
   "id": "f7d70047-9690-4980-9ec8-5abec08b9a64",
   "metadata": {},
   "outputs": [],
   "source": [
    "#hide\n",
    "#all_slow"
   ]
  },
  {
   "cell_type": "code",
   "execution_count": null,
   "id": "98630a32-40b8-45dd-a29d-4921956a6ff0",
   "metadata": {},
   "outputs": [],
   "source": [
    "#hide\n",
    "from dolfin import *\n",
    "import numpy as np\n",
    "import ot\n",
    "import matplotlib.pyplot as plt\n",
    "import seaborn as sns\n",
    "import pandas as pd\n",
    "# import matplotlib.cm as cm\n",
    "# plt.rcParams['figure.figsize'] = (10,6)\n",
    "# import required functions from oneDim\n",
    "from statFEM.oneDim import mean_assembler, kernMat, cov_assembler, sample_gp, m_post, gen_sensor, MyExpression, m_post_fem_assembler, c_post, c_post_fem_assembler\n",
    "from scipy.stats import linregress\n",
    "from scipy import integrate\n",
    "from scipy.linalg import sqrtm\n",
    "from tqdm.notebook import tqdm\n",
    "import sympy; sympy.init_printing()\n",
    "# code for displaying matrices nicely\n",
    "def display_matrix(m):\n",
    "    display(sympy.Matrix(m))"
   ]
  },
  {
   "cell_type": "code",
   "execution_count": null,
   "id": "edfd8371-e244-4680-8288-7bbd201d329c",
   "metadata": {},
   "outputs": [],
   "source": [
    "from statFEM.maxDist import wass"
   ]
  },
  {
   "cell_type": "markdown",
   "id": "60cce3af-3dce-4763-a0ed-2e891902bdbe",
   "metadata": {},
   "source": [
    "# Get samples from statFEM prior first"
   ]
  },
  {
   "cell_type": "code",
   "execution_count": null,
   "id": "74d5cb83-ac63-4cd8-8bb2-962de9e27ded",
   "metadata": {},
   "outputs": [],
   "source": [
    "# set up kernel functions for forcing f\n",
    "# l_f = 0.4\n",
    "l_f = 0.01\n",
    "σ_f = 0.1\n",
    "# σ_f = 1\n",
    "\n",
    "def m_f(x):\n",
    "    return 1.0\n",
    "\n",
    "def c_f(x,y):\n",
    "    return (σ_f**2)*np.exp(-(x-y)**2/(2*(l_f**2)))\n",
    "\n",
    "# translation invariant form of c_f\n",
    "def k_f(x):\n",
    "    return (σ_f**2)*np.exp(-(x**2)/(2*(l_f**2)))\n",
    "\n",
    "# # true prior solution mean\n",
    "# μ_true = Expression('0.5*x[0]*(1-x[0])',degree=2)"
   ]
  },
  {
   "cell_type": "code",
   "execution_count": null,
   "id": "9079981d-0178-46d2-a652-be9718900dc9",
   "metadata": {},
   "outputs": [],
   "source": [
    "# set up true prior cov function for solution\n",
    "# compute inner integral over t\n",
    "def η(w,y):\n",
    "    I_1 = integrate.quad(lambda t: t*c_f(w,t),0.0,y)[0]\n",
    "    I_2 = integrate.quad(lambda t: (1-t)*c_f(w,t),y,1.0)[0]\n",
    "    return (1-y)*I_1 + y*I_2\n",
    "\n",
    "# use this function eta and compute the outer integral over w\n",
    "def c_u(x,y):\n",
    "    I_1 = integrate.quad(lambda w: (1-w)*η(w,y),x,1.0)[0]\n",
    "    I_2 = integrate.quad(lambda w: w*η(w,y),0.0,x)[0]\n",
    "    return x*I_1 + (1-x)*I_2"
   ]
  },
  {
   "cell_type": "code",
   "execution_count": null,
   "id": "2f17714a-acb7-478b-84bc-d2848d660b96",
   "metadata": {},
   "outputs": [],
   "source": [
    "def u_quad(x,f,maxiter=50):\n",
    "    I_1 = integrate.quadrature(lambda w: w*f(w), 0.0, x,maxiter=maxiter)[0]\n",
    "    I_2 = integrate.quadrature(lambda w: (1-w)*f(w),x, 1.0,maxiter=maxiter)[0]\n",
    "    return (1-x)*I_1 + x*I_2"
   ]
  },
  {
   "cell_type": "code",
   "execution_count": null,
   "id": "23ab6579-0ca9-4ca8-afea-0c31b23a0c90",
   "metadata": {},
   "outputs": [],
   "source": [
    "# create statFEM sampler function\n",
    "def statFEM_sampler(n_sim, grid, h, f_bar, k_f, par = False, trans = True, tol=1e-9):\n",
    "    # get length of grid\n",
    "    d = len(grid)\n",
    "    \n",
    "    # get size of FE mesh\n",
    "    J = int(np.round(1/h))\n",
    "\n",
    "    # get statFEM mean function\n",
    "    μ_func = mean_assembler(h, f_bar)\n",
    "    \n",
    "    # evaluate this on the grid\n",
    "    μ = np.array([μ_func(x) for x in grid]).reshape(d,1)\n",
    "    \n",
    "    # get statFEM cov mat on grid\n",
    "    Σ = cov_assembler(J, k_f, grid, parallel=par, translation_inv=trans)\n",
    "    \n",
    "    # construct the cholesky decomposition Σ = GG^T\n",
    "    # we add a small diagonal perturbation to Σ to ensure it\n",
    "    # strictly positive definite\n",
    "    G = np.linalg.cholesky(Σ + tol * np.eye(d))\n",
    "\n",
    "    # draw iid standard normal random vectors\n",
    "    Z = np.random.normal(size=(d,n_sim))\n",
    "\n",
    "    # construct samples from GP(m,k)\n",
    "    Y = G@Z + np.tile(μ,n_sim)\n",
    "\n",
    "    # return the sampled trajectories\n",
    "    return Y"
   ]
  },
  {
   "cell_type": "code",
   "execution_count": null,
   "id": "2096cd65-4ac2-47c3-b342-53a3930ed10c",
   "metadata": {},
   "outputs": [
    {
     "name": "stdout",
     "output_type": "stream",
     "text": [
      "CPU times: user 53.1 ms, sys: 36.7 ms, total: 89.8 ms\n",
      "Wall time: 39.7 ms\n"
     ]
    }
   ],
   "source": [
    "%%time\n",
    "n_sim = 100\n",
    "N = 41\n",
    "grid = np.linspace(0,1,N)\n",
    "h = 0.01\n",
    "f_bar = Constant(1.0)\n",
    "np.random.seed(2123)\n",
    "sim_prior = statFEM_sampler(n_sim, grid, h, f_bar, k_f)"
   ]
  },
  {
   "cell_type": "markdown",
   "id": "c858d22b-8a4b-46e1-bea2-8850dcb77d97",
   "metadata": {},
   "source": [
    "# Now get samples from statFEM posterior"
   ]
  },
  {
   "cell_type": "code",
   "execution_count": null,
   "id": "e4e07e8e-4b7c-401e-aa63-47626d06e37c",
   "metadata": {},
   "outputs": [],
   "source": [
    "def statFEM_posterior_sampler(n_sim, grid, h, f_bar, k_f, ϵ, Y, v_dat, par = False, trans = True, tol = 1e-9):\n",
    "    # get length of grid\n",
    "    d = len(grid)\n",
    "    \n",
    "    # get size of FE mesh\n",
    "    J = int(np.round(1/h))\n",
    "    \n",
    "    # get statFEM posterior mean function\n",
    "    m_post_fem = m_post_fem_assembler(J,f_bar,k_f,ϵ,Y,v_dat)\n",
    "    μ_func = MyExpression()\n",
    "    μ_func.f = m_post_fem\n",
    "    \n",
    "    # evaluate this on the grid\n",
    "    μ = np.array([μ_func(x) for x in grid]).reshape(d,1)\n",
    "    \n",
    "    # get statFEM posterior cov mat on grid\n",
    "    Σ = c_post_fem_assembler(J,k_f,grid,Y,ϵ,False,True)\n",
    "    \n",
    "    # construct the cholesky decomposition Σ = GG^T\n",
    "    # we add a small diagonal perturbation to Σ to ensure it\n",
    "    # strictly positive definite\n",
    "    G = np.linalg.cholesky(Σ + tol * np.eye(d))\n",
    "\n",
    "    # draw iid standard normal random vectors\n",
    "    Z = np.random.normal(size=(d,n_sim))\n",
    "\n",
    "    # construct samples from GP(m,k)\n",
    "    Y = G@Z + np.tile(μ,n_sim)\n",
    "\n",
    "    # return the sampled trajectories\n",
    "    return Y"
   ]
  },
  {
   "cell_type": "markdown",
   "id": "fa2f5f2f-96df-478a-8393-5e248fb148bf",
   "metadata": {},
   "source": [
    "### Get variance info for prior"
   ]
  },
  {
   "cell_type": "code",
   "execution_count": null,
   "id": "d2eadfbd-d949-4e18-b693-de3666dc940b",
   "metadata": {},
   "outputs": [
    {
     "data": {
      "text/html": [
       "<div>\n",
       "<style scoped>\n",
       "    .dataframe tbody tr th:only-of-type {\n",
       "        vertical-align: middle;\n",
       "    }\n",
       "\n",
       "    .dataframe tbody tr th {\n",
       "        vertical-align: top;\n",
       "    }\n",
       "\n",
       "    .dataframe thead th {\n",
       "        text-align: right;\n",
       "    }\n",
       "</style>\n",
       "<table border=\"1\" class=\"dataframe\">\n",
       "  <thead>\n",
       "    <tr style=\"text-align: right;\">\n",
       "      <th></th>\n",
       "      <th>0</th>\n",
       "    </tr>\n",
       "  </thead>\n",
       "  <tbody>\n",
       "    <tr>\n",
       "      <th>count</th>\n",
       "      <td>41.000000</td>\n",
       "    </tr>\n",
       "    <tr>\n",
       "      <th>mean</th>\n",
       "      <td>0.001482</td>\n",
       "    </tr>\n",
       "    <tr>\n",
       "      <th>std</th>\n",
       "      <td>0.000730</td>\n",
       "    </tr>\n",
       "    <tr>\n",
       "      <th>min</th>\n",
       "      <td>0.000030</td>\n",
       "    </tr>\n",
       "    <tr>\n",
       "      <th>25%</th>\n",
       "      <td>0.000963</td>\n",
       "    </tr>\n",
       "    <tr>\n",
       "      <th>50%</th>\n",
       "      <td>0.001673</td>\n",
       "    </tr>\n",
       "    <tr>\n",
       "      <th>75%</th>\n",
       "      <td>0.002151</td>\n",
       "    </tr>\n",
       "    <tr>\n",
       "      <th>max</th>\n",
       "      <td>0.002321</td>\n",
       "    </tr>\n",
       "  </tbody>\n",
       "</table>\n",
       "</div>"
      ],
      "text/plain": [
       "               0\n",
       "count  41.000000\n",
       "mean    0.001482\n",
       "std     0.000730\n",
       "min     0.000030\n",
       "25%     0.000963\n",
       "50%     0.001673\n",
       "75%     0.002151\n",
       "max     0.002321"
      ]
     },
     "execution_count": null,
     "metadata": {},
     "output_type": "execute_result"
    }
   ],
   "source": [
    "pd.DataFrame(sim_prior.std(axis=1)).describe()"
   ]
  },
  {
   "cell_type": "code",
   "execution_count": null,
   "id": "c34846cd-d52c-46f2-a140-60f8732ec8ec",
   "metadata": {},
   "outputs": [],
   "source": [
    "s = 10 # number of sensors\n",
    "# create sensor grid (???do we need to reverse???)\n",
    "Y = np.linspace(0.01,0.99,s)[::-1] \n",
    "# get true prior covariance on sensor grid\n",
    "C_true_s = kernMat(c_u,Y.flatten())\n",
    "# create function to compute vector mentioned above\n",
    "def c_u_vect(x):\n",
    "    return np.array([c_u(x,y_i) for y_i in Y])\n",
    "\n",
    "# sensor noise level\n",
    "ϵ = 0.0001\n",
    "np.random.seed(235)\n",
    "v_dat = gen_sensor(ϵ,m_f,k_f,Y,u_quad,grid,maxiter=300)\n",
    "\n",
    "# # get true B mat required for posterior\n",
    "# B_true = (ϵ**2)*np.eye(s) + C_true_s\n",
    "\n",
    "# # set up true posterior mean\n",
    "# def true_mean(x):\n",
    "#     return m_post(x,μ_true,c_u_vect,v_dat,Y,B_true)\n",
    "# # μ_true_s = MyExpression()\n",
    "# # μ_true_s.f = true_mean\n",
    "# # set up true posterior covariance\n",
    "# def c_post_true(x,y):\n",
    "#     return c_post(x,y,c_u,Y,B_true)"
   ]
  },
  {
   "cell_type": "code",
   "execution_count": null,
   "id": "69006c70-5fd3-4e31-b881-63c7e84d78b6",
   "metadata": {},
   "outputs": [
    {
     "name": "stdout",
     "output_type": "stream",
     "text": [
      "CPU times: user 77.3 ms, sys: 4.82 ms, total: 82.1 ms\n",
      "Wall time: 71.2 ms\n"
     ]
    }
   ],
   "source": [
    "%%time\n",
    "np.random.seed(3542)\n",
    "sim_posterior = statFEM_posterior_sampler(n_sim, grid, h, f_bar, k_f, ϵ, Y, v_dat)"
   ]
  },
  {
   "cell_type": "code",
   "execution_count": null,
   "id": "6f78f961-1fad-4c5a-8568-deaf637ea560",
   "metadata": {},
   "outputs": [
    {
     "data": {
      "image/png": "[encoded data removed]",
      "text/plain": [
       "<Figure size 1440x720 with 2 Axes>"
      ]
     },
     "metadata": {
      "needs_background": "light"
     },
     "output_type": "display_data"
    }
   ],
   "source": [
    "plt.rcParams['figure.figsize'] = (20,10)\n",
    "fig, (ax1, ax2) = plt.subplots(1,2, sharex=True,sharey=True)\n",
    "\n",
    "ax1.plot(grid,sim_prior,c='blue',alpha=0.15)\n",
    "ax1.set_xlabel('$x$')\n",
    "ax1.set_ylabel('$u$')\n",
    "ax1.set_title('statFEM prior')\n",
    "ax1.grid()\n",
    "\n",
    "ax2.plot(grid,sim_posterior,c='blue',alpha=0.15)\n",
    "ax2.scatter(Y,v_dat,c='red',marker='x',lw=3)\n",
    "ax2.set_xlabel('$x$')\n",
    "ax2.set_ylabel('$u$')\n",
    "ax2.set_title('statFEM posterior')\n",
    "ax2.grid()"
   ]
  },
  {
   "cell_type": "code",
   "execution_count": null,
   "id": "b2797b60-5edd-42ea-b24d-b8fb51734965",
   "metadata": {},
   "outputs": [],
   "source": []
  }
 ],
 "metadata": {
  "kernelspec": {
   "display_name": "fenicsproject18",
   "language": "python",
   "name": "fenicsproject18"
  }
 },
 "nbformat": 4,
 "nbformat_minor": 5
}
