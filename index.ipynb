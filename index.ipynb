{
 "cells": [
  {
   "cell_type": "markdown",
   "metadata": {},
   "source": [
    "[![Stable](https://img.shields.io/badge/docs-stable-blue.svg)](https://yannipapandreou.github.io/statFEM/)"
   ]
  },
  {
   "cell_type": "code",
   "execution_count": null,
   "metadata": {},
   "outputs": [],
   "source": [
    "#hide"
   ]
  },
  {
   "cell_type": "markdown",
   "metadata": {},
   "source": [
    "# statFEM\n",
    "\n",
    "> Code for the numerical experiments demonstrating our error analysis of the statFEM method."
   ]
  },
  {
   "cell_type": "markdown",
   "metadata": {},
   "source": [
    "`oneDim` contains code needed for our 1-D example while `twoDim` contains code needed for our 2-D example. `maxDist` contains required code for our 1-D max example. The other notebooks all contain the relevant code for each experiment."
   ]
  },
  {
   "cell_type": "code",
   "execution_count": null,
   "metadata": {},
   "outputs": [],
   "source": []
  }
 ],
 "metadata": {
  "kernelspec": {
   "display_name": "Python 3",
   "language": "python",
   "name": "python3"
  }
 },
 "nbformat": 4,
 "nbformat_minor": 4
}
