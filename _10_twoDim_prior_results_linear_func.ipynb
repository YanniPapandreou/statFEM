{
 "cells": [
  {
   "cell_type": "code",
   "execution_count": null,
   "id": "3fdb0992",
   "metadata": {},
   "outputs": [],
   "source": [
    "# default_exp"
   ]
  },
  {
   "cell_type": "code",
   "execution_count": null,
   "id": "33c5f7bc",
   "metadata": {},
   "outputs": [],
   "source": [
    "#hide\n",
    "#all_slow"
   ]
  },
  {
   "cell_type": "markdown",
   "id": "8cdf9df1",
   "metadata": {},
   "source": [
    "# 2-D prior toy example\n",
    "\n",
    "> Demonstration of prior error bounds for a 2-D toy example"
   ]
  },
  {
   "cell_type": "markdown",
   "id": "6b817ae4",
   "metadata": {},
   "source": [
    "In this notebook we will demonstrate the error bounds for the statFEM prior for the toy example introduced in <a href=\"/statFEM/twoDim.html#2-dimensional-case-(PDE)\"><code>twoDim</code></a>. We first import some required packages."
   ]
  },
  {
   "cell_type": "code",
   "execution_count": null,
   "id": "354f84b8",
   "metadata": {},
   "outputs": [],
   "source": [
    "from dolfin import *\n",
    "import numpy as np\n",
    "import matplotlib.pyplot as plt\n",
    "plt.rcParams['figure.figsize'] = (10,6)\n",
    "# import required functions from twoDim\n",
    "from statFEM.twoDim import mean_assembler, kernMat, cov_assembler\n",
    "from scipy.linalg import sqrtm\n",
    "import sympy; sympy.init_printing()\n",
    "from tqdm.notebook import tqdm\n",
    "# code for displaying matrices nicely\n",
    "def display_matrix(m):\n",
    "    display(sympy.Matrix(m))"
   ]
  },
  {
   "cell_type": "markdown",
   "id": "e2531b90",
   "metadata": {},
   "source": [
    "Since we do not have ready access to a solution operator for this problem we will utilise a different approach to demonstrate the appropriate rate for the error bounds. This approach involves comparing the statFEM distributions on finer and finer meshes as follows. We first assume we have the following error bound:\n",
    "\n",
    "$$W(\\nu_{\\star},\\nu_{h})\\leq\\mathcal{O}(h^{p}) \\text{ as } h\\rightarrow 0$$\n",
    "\n",
    "From this we have:\n",
    "\n",
    "$$W(\\nu_{\\star},\\nu_{h})=Ch^{p}+\\mathcal{O}(h^{p+1})$$ \n",
    "\n",
    "The triangle inequality then yields:\n",
    "\n",
    "$$W(\\nu_{h},\\nu_{h/2})\\leq W(\\nu_{h},\\nu_{\\star}) + W(\\nu_{\\star},\\nu_{h/2})$$\n",
    "\n",
    "And so with the above we obtain:\n",
    "\n",
    "$$W(\\nu_{h},\\nu_{h/2})=Ch^{p}+C(h/2)^{p}+\\mathcal{O}(h^{p+1})$$\n",
    "\n",
    "Similarly we have:\n",
    "\n",
    "$$W(\\nu_{h/2},\\nu_{h/4})=C(h/2)^{p}+C(h/4)^{p}+\\mathcal{O}(h^{p+1})$$\n",
    "\n",
    "Dividing the two above equations yields:\n",
    "\n",
    "$$\\frac{W(\\nu_{h},\\nu_{h/2})}{W(\\nu_{h/2},\\nu_{h/4})}=\\frac{Ch^{p}+C(h/2)^{p}+\\mathcal{O}(h^{p+1})}{C(h/2)^{p}+C(h/4)^{p}+\\mathcal{O}(h^{p+1})}=\\frac{1-2^{-p}+\\mathcal{O}(h)}{2^{-p}-2^{-2p}+\\mathcal{O}(h)}=2^{p}+\\mathcal{O}(h)$$\n",
    "\n",
    "From which it follows:\n",
    "\n",
    "$$\\log_{2}\\frac{W(\\nu_{h},\\nu_{h/2})}{W(\\nu_{h/2},\\nu_{h/4})}=p+\\mathcal{O}(h)$$\n",
    "\n",
    "Note that this ratio above does not rely on having access to the true prior $\\nu_{\\star}$.\n",
    "\n",
    "We will thus compare the errors on a succesively refined mesh and take the base-2 log of the above ratio. We hope to see these logarithms converge to $p=2$."
   ]
  },
  {
   "cell_type": "markdown",
   "id": "242e557f",
   "metadata": {},
   "source": [
    "We now set up the mean and kernel functions for the random forcing term $f$."
   ]
  },
  {
   "cell_type": "code",
   "execution_count": null,
   "id": "6ddcbd15",
   "metadata": {},
   "outputs": [],
   "source": [
    "# set up mean and kernel functions\n",
    "f_bar = Constant(1.0)\n",
    "\n",
    "l_f = 0.4\n",
    "σ_f = 0.1\n",
    "\n",
    "def k_f(x):\n",
    "    return (σ_f**2)*np.exp(-(x**2)/(2*(l_f**2)))"
   ]
  },
  {
   "cell_type": "markdown",
   "id": "a38cac40",
   "metadata": {},
   "source": [
    "We now set up a reference grid on which we will compare the covariance matrices."
   ]
  },
  {
   "cell_type": "code",
   "execution_count": null,
   "id": "6cfe93ea",
   "metadata": {},
   "outputs": [],
   "source": [
    "N = 41\n",
    "x_range = np.linspace(0,1,N)\n",
    "grid = np.array([[x,y] for x in x_range for y in x_range])"
   ]
  },
  {
   "cell_type": "markdown",
   "id": "66640463",
   "metadata": {},
   "source": [
    "We now set up a function to get the statFEM prior for a FE mesh size $h$, using functions from <a href=\"/statFEM/twoDim.html#\"><code>twoDim</code></a>."
   ]
  },
  {
   "cell_type": "code",
   "execution_count": null,
   "id": "d450240b",
   "metadata": {},
   "outputs": [],
   "source": [
    "def fem_prior(h,f_bar,k_f,grid):\n",
    "    J = int(np.round(1/h))\n",
    "    μ = mean_assembler(h,f_bar)\n",
    "    μ_vect = np.array([μ(x) for x in grid])\n",
    "    Σ = cov_assembler(J,k_f,grid,False,True)\n",
    "    return μ_vect,Σ"
   ]
  },
  {
   "cell_type": "code",
   "execution_count": null,
   "id": "d6dd1a95-9351-41e7-aed3-faf5a3bc9e1d",
   "metadata": {},
   "outputs": [],
   "source": [
    "def W_sliced(μ_1,μ_2,Σ_1,Σ_2,g):\n",
    "    # get length of grid from length of μ_i\n",
    "    N = len(μ_1)\n",
    "    \n",
    "    # form mean error term\n",
    "    mean_error = (g @ (μ_1 - μ_2))**2\n",
    "    \n",
    "    # form var error term\n",
    "    var_error = (np.sqrt(g @ Σ_1 @ g) - np.sqrt(g @ Σ_2 @ g))**2\n",
    "    \n",
    "    # compute and return error\n",
    "    return (1/N)*np.sqrt(mean_error + var_error)"
   ]
  },
  {
   "cell_type": "code",
   "execution_count": null,
   "id": "51d859eb-6906-4a83-b9db-d63c2415aa12",
   "metadata": {},
   "outputs": [],
   "source": [
    "def g_l(x):\n",
    "    x = 2*np.pi * x\n",
    "    return np.sin(x[0])*np.sin(x[1])"
   ]
  },
  {
   "cell_type": "markdown",
   "id": "29670c5d",
   "metadata": {},
   "source": [
    "In the interests of memory efficiency we will now create a function which will compute the ratios of errors mentioned above by succesively refining the FE mesh."
   ]
  },
  {
   "cell_type": "code",
   "execution_count": null,
   "id": "d4f43c4f",
   "metadata": {},
   "outputs": [],
   "source": [
    "def refine(h,n,f_bar,k_f,grid,g_l):\n",
    "    # set up vector g\n",
    "    g = np.array([g_l(x) for x in grid])\n",
    "    \n",
    "    # set up empty lists to hold h-values and errors (this being the ratios)\n",
    "    h_range = []\n",
    "    errors = []\n",
    "    # get the statFEM prior for h and h/2\n",
    "    μ_1, Σ_1 = fem_prior(h,f_bar,k_f,grid)\n",
    "    μ_2, Σ_2 = fem_prior(h/2,f_bar,k_f,grid)\n",
    "    # compute the distance between these and store in numerator variable\n",
    "    numerator = W_sliced(μ_1,μ_2,Σ_1,Σ_2,g)\n",
    "    # succesively refine the mesh by halving and do this n times\n",
    "    for i in tqdm(range(n)):\n",
    "        # store mean and cov for h/2 in storage for h\n",
    "        μ_1, Σ_1 = μ_2, Σ_2 \n",
    "        # in storage for h/2 store mean and cov for h/4\n",
    "        μ_2, Σ_2 = fem_prior(h/4,f_bar,k_f,grid)\n",
    "        # compute the distance between the priors for h/2 and h/4\n",
    "        # and store in denominator variable\n",
    "        denominator = W_sliced(μ_1,μ_2,Σ_1,Σ_2,g)\n",
    "        # compute the ratio and store in error\n",
    "        error = numerator/denominator\n",
    "        # append the current value of h and the ratio\n",
    "        h_range.append(h)\n",
    "        errors.append(error)\n",
    "        # store denominator in numerator and halve h\n",
    "        numerator = denominator\n",
    "        h = h/2\n",
    "    # return the list of h-values together with the ratios for these values\n",
    "    return h_range,errors"
   ]
  },
  {
   "cell_type": "markdown",
   "id": "a27d149b",
   "metadata": {},
   "source": [
    "> Note: The above function will compute the ratio $\\frac{W(\\nu_{h},\\nu_{h/2})}{W(\\nu_{h/2},\\nu_{h/4})}$ for the values $h,h/2,\\cdots,h/2^{n-1}$."
   ]
  },
  {
   "cell_type": "markdown",
   "id": "61be823b",
   "metadata": {},
   "source": [
    "We now set up a list of starting $h$ values and number of refinements $n$ to get a decent number of ratios to approximate $p$."
   ]
  },
  {
   "cell_type": "code",
   "execution_count": null,
   "id": "0d6b6a9c",
   "metadata": {},
   "outputs": [],
   "source": [
    "my_list = [(0.25,4),(0.2,3),(0.175,3),(0.22,4),(0.176,3),(0.177,3),(0.178,3),(0.179,3),(0.18,3),(0.21,3),(0.215,3),(0.1,2),(0.3,4),(0.31,4),(0.315,4),(0.24,4),(0.245,4),(0.25,4),(0.14,2),(0.16,2),(0.15,2),(0.18,2)]"
   ]
  },
  {
   "cell_type": "markdown",
   "id": "4929a34c",
   "metadata": {},
   "source": [
    "> Warning: As we are now in 2-D the matrices needed to compute the statFEM prior get very large in size as $h$ decreases. Due to memory constraints we must thus make sure $h$ does not get too small."
   ]
  },
  {
   "cell_type": "markdown",
   "id": "49f4d257",
   "metadata": {},
   "source": [
    "We now compute the results:"
   ]
  },
  {
   "cell_type": "code",
   "execution_count": null,
   "id": "e4311ad1",
   "metadata": {},
   "outputs": [
    {
     "data": {
      "application/vnd.jupyter.widget-view+json": {
       "model_id": "be1b2532b42847eb97cc5706ab4246e8",
       "version_major": 2,
       "version_minor": 0
      },
      "text/plain": [
       "Outer loop:   0%|          | 0/22 [00:00<?, ?it/s]"
      ]
     },
     "metadata": {},
     "output_type": "display_data"
    },
    {
     "data": {
      "application/vnd.jupyter.widget-view+json": {
       "model_id": "ebbf865b4a7940868e895ca67033df96",
       "version_major": 2,
       "version_minor": 0
      },
      "text/plain": [
       "  0%|          | 0/4 [00:00<?, ?it/s]"
      ]
     },
     "metadata": {},
     "output_type": "display_data"
    },
    {
     "data": {
      "application/vnd.jupyter.widget-view+json": {
       "model_id": "b9e5df43daaa4d079cde1fdd623e114a",
       "version_major": 2,
       "version_minor": 0
      },
      "text/plain": [
       "  0%|          | 0/3 [00:00<?, ?it/s]"
      ]
     },
     "metadata": {},
     "output_type": "display_data"
    },
    {
     "data": {
      "application/vnd.jupyter.widget-view+json": {
       "model_id": "9e3d2c9d2a3b4e38ae39636d60bfc203",
       "version_major": 2,
       "version_minor": 0
      },
      "text/plain": [
       "  0%|          | 0/3 [00:00<?, ?it/s]"
      ]
     },
     "metadata": {},
     "output_type": "display_data"
    },
    {
     "data": {
      "application/vnd.jupyter.widget-view+json": {
       "model_id": "a96b4f5a03174bf595c95239d6f5fb90",
       "version_major": 2,
       "version_minor": 0
      },
      "text/plain": [
       "  0%|          | 0/4 [00:00<?, ?it/s]"
      ]
     },
     "metadata": {},
     "output_type": "display_data"
    },
    {
     "data": {
      "application/vnd.jupyter.widget-view+json": {
       "model_id": "958fb0c2e98648bd885fee7e3c8f5cb1",
       "version_major": 2,
       "version_minor": 0
      },
      "text/plain": [
       "  0%|          | 0/3 [00:00<?, ?it/s]"
      ]
     },
     "metadata": {},
     "output_type": "display_data"
    },
    {
     "data": {
      "application/vnd.jupyter.widget-view+json": {
       "model_id": "8f3cfc2169474d21bcf64fe6f754e235",
       "version_major": 2,
       "version_minor": 0
      },
      "text/plain": [
       "  0%|          | 0/3 [00:00<?, ?it/s]"
      ]
     },
     "metadata": {},
     "output_type": "display_data"
    },
    {
     "data": {
      "application/vnd.jupyter.widget-view+json": {
       "model_id": "5594bc074b6742e1bd24ef6a8d6c4cf2",
       "version_major": 2,
       "version_minor": 0
      },
      "text/plain": [
       "  0%|          | 0/3 [00:00<?, ?it/s]"
      ]
     },
     "metadata": {},
     "output_type": "display_data"
    },
    {
     "data": {
      "application/vnd.jupyter.widget-view+json": {
       "model_id": "91bc828f0e164b78a6628d6a57afec54",
       "version_major": 2,
       "version_minor": 0
      },
      "text/plain": [
       "  0%|          | 0/3 [00:00<?, ?it/s]"
      ]
     },
     "metadata": {},
     "output_type": "display_data"
    },
    {
     "data": {
      "application/vnd.jupyter.widget-view+json": {
       "model_id": "6bad548ca7754d2886fb5189196490c6",
       "version_major": 2,
       "version_minor": 0
      },
      "text/plain": [
       "  0%|          | 0/3 [00:00<?, ?it/s]"
      ]
     },
     "metadata": {},
     "output_type": "display_data"
    },
    {
     "data": {
      "application/vnd.jupyter.widget-view+json": {
       "model_id": "2e60d423c56241b8b3eb36bbd176470c",
       "version_major": 2,
       "version_minor": 0
      },
      "text/plain": [
       "  0%|          | 0/3 [00:00<?, ?it/s]"
      ]
     },
     "metadata": {},
     "output_type": "display_data"
    },
    {
     "data": {
      "application/vnd.jupyter.widget-view+json": {
       "model_id": "65f027aa606d467cb0cba6996bd4b154",
       "version_major": 2,
       "version_minor": 0
      },
      "text/plain": [
       "  0%|          | 0/3 [00:00<?, ?it/s]"
      ]
     },
     "metadata": {},
     "output_type": "display_data"
    },
    {
     "data": {
      "application/vnd.jupyter.widget-view+json": {
       "model_id": "1794cc1ba0d94db98991a1b9cccf6804",
       "version_major": 2,
       "version_minor": 0
      },
      "text/plain": [
       "  0%|          | 0/2 [00:00<?, ?it/s]"
      ]
     },
     "metadata": {},
     "output_type": "display_data"
    },
    {
     "data": {
      "application/vnd.jupyter.widget-view+json": {
       "model_id": "80b891097cb742ec9c0fe91dfe19cbf7",
       "version_major": 2,
       "version_minor": 0
      },
      "text/plain": [
       "  0%|          | 0/4 [00:00<?, ?it/s]"
      ]
     },
     "metadata": {},
     "output_type": "display_data"
    },
    {
     "data": {
      "application/vnd.jupyter.widget-view+json": {
       "model_id": "3ff715a3327f43f69705dc5bfb5710c3",
       "version_major": 2,
       "version_minor": 0
      },
      "text/plain": [
       "  0%|          | 0/4 [00:00<?, ?it/s]"
      ]
     },
     "metadata": {},
     "output_type": "display_data"
    },
    {
     "data": {
      "application/vnd.jupyter.widget-view+json": {
       "model_id": "36fab0dc6d924c0895a2c876e7937275",
       "version_major": 2,
       "version_minor": 0
      },
      "text/plain": [
       "  0%|          | 0/4 [00:00<?, ?it/s]"
      ]
     },
     "metadata": {},
     "output_type": "display_data"
    },
    {
     "data": {
      "application/vnd.jupyter.widget-view+json": {
       "model_id": "e45757fe9fcd4dbba628f60d9174a244",
       "version_major": 2,
       "version_minor": 0
      },
      "text/plain": [
       "  0%|          | 0/4 [00:00<?, ?it/s]"
      ]
     },
     "metadata": {},
     "output_type": "display_data"
    },
    {
     "data": {
      "application/vnd.jupyter.widget-view+json": {
       "model_id": "42770b0ea7cf438095f43c7d178aca9f",
       "version_major": 2,
       "version_minor": 0
      },
      "text/plain": [
       "  0%|          | 0/4 [00:00<?, ?it/s]"
      ]
     },
     "metadata": {},
     "output_type": "display_data"
    },
    {
     "data": {
      "application/vnd.jupyter.widget-view+json": {
       "model_id": "5ef4984ec4f94e13afd744822b0b5440",
       "version_major": 2,
       "version_minor": 0
      },
      "text/plain": [
       "  0%|          | 0/4 [00:00<?, ?it/s]"
      ]
     },
     "metadata": {},
     "output_type": "display_data"
    },
    {
     "data": {
      "application/vnd.jupyter.widget-view+json": {
       "model_id": "0182ae69116846299143177d8a7cc1b3",
       "version_major": 2,
       "version_minor": 0
      },
      "text/plain": [
       "  0%|          | 0/2 [00:00<?, ?it/s]"
      ]
     },
     "metadata": {},
     "output_type": "display_data"
    },
    {
     "data": {
      "application/vnd.jupyter.widget-view+json": {
       "model_id": "26dbdea0b7064114a572aa50aa74d928",
       "version_major": 2,
       "version_minor": 0
      },
      "text/plain": [
       "  0%|          | 0/2 [00:00<?, ?it/s]"
      ]
     },
     "metadata": {},
     "output_type": "display_data"
    },
    {
     "data": {
      "application/vnd.jupyter.widget-view+json": {
       "model_id": "1e08ade574d345f1a13dd61965137059",
       "version_major": 2,
       "version_minor": 0
      },
      "text/plain": [
       "  0%|          | 0/2 [00:00<?, ?it/s]"
      ]
     },
     "metadata": {},
     "output_type": "display_data"
    },
    {
     "data": {
      "application/vnd.jupyter.widget-view+json": {
       "model_id": "45b8a639bb9147e0869c82c412856b74",
       "version_major": 2,
       "version_minor": 0
      },
      "text/plain": [
       "  0%|          | 0/2 [00:00<?, ?it/s]"
      ]
     },
     "metadata": {},
     "output_type": "display_data"
    },
    {
     "name": "stdout",
     "output_type": "stream",
     "text": [
      "CPU times: user 23min 48s, sys: 3min 11s, total: 27min\n",
      "Wall time: 24min 51s\n"
     ]
    }
   ],
   "source": [
    "%%time\n",
    "h_range = []\n",
    "errors = []\n",
    "for h,n in tqdm(my_list,desc = 'Outer loop'):\n",
    "    h_range_tmp, errors_tmp = refine(h,n,f_bar,k_f,grid,g_l)\n",
    "    h_range.extend(h_range_tmp)\n",
    "    errors.extend(errors_tmp)"
   ]
  },
  {
   "cell_type": "code",
   "execution_count": null,
   "id": "1a02e50e",
   "metadata": {},
   "outputs": [],
   "source": [
    "#hide\n",
    "# import pickle\n",
    "# results = {'h':h_range,'ratios':errors}\n",
    "# with open('2D_prior_results_finer','wb') as f:\n",
    "#     pickle.dump(results,f)"
   ]
  },
  {
   "cell_type": "code",
   "execution_count": null,
   "id": "831e9174",
   "metadata": {},
   "outputs": [],
   "source": [
    "# #hide\n",
    "# import pickle\n",
    "# with open('2D_prior_results_finer','rb') as f:\n",
    "#     results = pickle.load(f)\n",
    "# h_range = results['h']\n",
    "# errors = results['ratios']"
   ]
  },
  {
   "cell_type": "markdown",
   "id": "24f79dcc",
   "metadata": {},
   "source": [
    "We now sort these results by $h$ and get rid of duplicates (from repeats in $h$-values)."
   ]
  },
  {
   "cell_type": "code",
   "execution_count": null,
   "id": "69b4b2f3",
   "metadata": {},
   "outputs": [],
   "source": [
    "h_range_array = np.array(h_range)\n",
    "errors_array = np.array(errors)"
   ]
  },
  {
   "cell_type": "code",
   "execution_count": null,
   "id": "e90490e9",
   "metadata": {},
   "outputs": [],
   "source": [
    "argInd = np.argsort(h_range_array)\n",
    "hs = h_range_array[argInd]\n",
    "es = errors_array[argInd]\n",
    "hs,hs_ind = np.unique(hs,return_index=True)\n",
    "es = es[hs_ind]"
   ]
  },
  {
   "cell_type": "markdown",
   "id": "631ff5f7",
   "metadata": {},
   "source": [
    "We now plot the base-2 logarithm of the ratios against $h$ below:"
   ]
  },
  {
   "cell_type": "code",
   "execution_count": null,
   "id": "91a267df",
   "metadata": {},
   "outputs": [
    {
     "data": {
      "image/png": "[encoded data removed]",
      "text/plain": [
       "<Figure size 720x432 with 1 Axes>"
      ]
     },
     "metadata": {
      "needs_background": "light"
     },
     "output_type": "display_data"
    }
   ],
   "source": [
    "#hide_input\n",
    "plt.plot(hs,np.log2(es),c='r')\n",
    "plt.xlabel('$h$')\n",
    "plt.title('Base-2 log plot of the ratios against $h$')\n",
    "plt.hlines(2.0,hs[0],hs[-1],colors='black',linestyles='--')\n",
    "plt.grid()\n",
    "#plt.savefig('2D_prior_results.png',dpi=300,bbox_inches='tight',facecolor='w')\n",
    "plt.show()"
   ]
  },
  {
   "cell_type": "markdown",
   "id": "e9eca82a",
   "metadata": {},
   "source": [
    "We can see from the above plot that the logarithms seems to be approaching $p=2$ as $h$ gets small just as predicted. However, the results aren't that smooth and they haven't seemed to settle on $p=2$ yet. This can be due to memory constraints meaning we cannot use small enough $h$. We thus smooth the above results via two approaches:\n",
    "\n",
    "- We take a cumulative average of the ratios and then apply $\\log_2$.\n",
    "- We first apply $\\log_2$ to the ratios and then taking a cumulative average.\n",
    "\n",
    "In both cases we take the rolling average starting with large $h$. We choose a cut-off point of $h=0.15$, i.e. we discard any results for $h>0.15$.\n",
    "\n",
    "The results are shown below:"
   ]
  },
  {
   "cell_type": "code",
   "execution_count": null,
   "id": "92e582a7",
   "metadata": {},
   "outputs": [
    {
     "data": {
      "image/png": "[encoded data removed]",
      "text/plain": [
       "<Figure size 720x432 with 1 Axes>"
      ]
     },
     "metadata": {
      "needs_background": "light"
     },
     "output_type": "display_data"
    }
   ],
   "source": [
    "#hide_input\n",
    "# get the cumulative average of es:\n",
    "i = -19\n",
    "ES = es[:i]\n",
    "es_av = np.cumsum(np.log2(ES[::-1]))/np.arange(1,len(ES)+1)\n",
    "es_av_1 = np.log2(np.cumsum(ES[::-1])/np.arange(1,len(ES)+1))\n",
    "plt.plot(es_av,label='cum_av_of_log')\n",
    "#plt.plot(es_av_1,label='log_of_cum_av',c='r')\n",
    "plt.plot(es_av_1,label='log_of_cum_av')\n",
    "#plt.hlines(2.0,0,len(es_av_1),colors='black',linestyles='--')\n",
    "#plt.title('Base-2 logarithms of the cumulative averages of the ratios for $h\\leq 0.15$')\n",
    "#plt.xlabel('index')\n",
    "#plt.ylim((1.8,2.1))\n",
    "plt.legend()\n",
    "plt.grid()\n",
    "#plt.savefig('2D_prior_results_smoothed.png',dpi=300,bbox_inches='tight',facecolor='w')\n",
    "plt.show()"
   ]
  },
  {
   "cell_type": "markdown",
   "id": "b1849b79",
   "metadata": {},
   "source": [
    "From the smoothed results above we can see more clearly that the ratios are converging to around $p=2$. In fact, discarding the values corresponding to $h>0.15$ seems to result in the the rolling average converging to a value slightly greater than $2$."
   ]
  },
  {
   "cell_type": "code",
   "execution_count": null,
   "id": "c80cb5c7",
   "metadata": {},
   "outputs": [],
   "source": [
    "#hide\n",
    "# import pickle\n",
    "# results = {'h':h_range,'ratios':errors}\n",
    "# with open('2D_prior_results','wb') as f:\n",
    "#     pickle.dump(results,f)"
   ]
  },
  {
   "cell_type": "code",
   "execution_count": null,
   "id": "a98d987c",
   "metadata": {},
   "outputs": [],
   "source": []
  }
 ],
 "metadata": {
  "kernelspec": {
   "display_name": "fenicsproject18",
   "language": "python",
   "name": "fenicsproject18"
  }
 },
 "nbformat": 4,
 "nbformat_minor": 5
}
