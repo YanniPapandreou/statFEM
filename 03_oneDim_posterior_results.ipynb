{
 "cells": [
  {
   "cell_type": "code",
   "execution_count": null,
   "id": "bd1d89bb",
   "metadata": {},
   "outputs": [],
   "source": [
    "# default_exp"
   ]
  },
  {
   "cell_type": "code",
   "execution_count": null,
   "id": "e7e189de",
   "metadata": {},
   "outputs": [],
   "source": [
    "#hide\n",
    "#all_slow"
   ]
  },
  {
   "cell_type": "markdown",
   "id": "7cd31dd8",
   "metadata": {},
   "source": [
    "# 1-D posterior toy example\n",
    "\n",
    "> Demonstration of posterior error bounds for a 1-D toy example, for various levels of sensor noise"
   ]
  },
  {
   "cell_type": "markdown",
   "id": "f5c7c374",
   "metadata": {},
   "source": [
    "In this notebook we will demonstrate the error bounds for the statFEM posterior for the toy example introduced in <a href=\"/statFEM/oneDim.html#1-dimensional-case-(ODE)\"><code>oneDim</code></a>. We first import some required packages."
   ]
  },
  {
   "cell_type": "code",
   "execution_count": null,
   "id": "1a9c0205",
   "metadata": {},
   "outputs": [],
   "source": [
    "from dolfin import *\n",
    "import numpy as np\n",
    "import pandas as pd\n",
    "import matplotlib.pyplot as plt\n",
    "plt.rcParams['figure.figsize'] = (10,6)\n",
    "from scipy.stats import multivariate_normal, linregress\n",
    "from scipy import integrate\n",
    "from scipy.spatial.distance import cdist, pdist, squareform\n",
    "from scipy.linalg import sqrtm\n",
    "from scipy.interpolate import interp1d\n",
    "import sympy; sympy.init_printing()\n",
    "from tqdm.notebook import tqdm\n",
    "# code for displaying matrices nicely\n",
    "def display_matrix(m):\n",
    "    display(sympy.Matrix(m))\n",
    "# import required functions from oneDim\n",
    "from statFEM.oneDim import kernMat, m_post, gen_sensor, MyExpression, m_post_fem_assembler, c_post, c_post_fem_assembler"
   ]
  },
  {
   "cell_type": "markdown",
   "id": "00caf970",
   "metadata": {},
   "source": [
    "We now set up the mean and kernel functions for the random forcing term $f$. We also set up the true prior solution mean for use with FEniCS."
   ]
  },
  {
   "cell_type": "code",
   "execution_count": null,
   "id": "d0365fc1",
   "metadata": {},
   "outputs": [],
   "source": [
    "# set up mean and kernel functions\n",
    "l_f = 0.4  # original value!!!!!!\n",
    "σ_f = 0.1\n",
    "#σ_f = 10.0\n",
    "\n",
    "def m_f(x):\n",
    "    return 1.0\n",
    "\n",
    "def c_f(x,y):\n",
    "    return (σ_f**2)*np.exp(-(x-y)**2/(2*(l_f**2)))\n",
    "\n",
    "# translation invariant form of c_f\n",
    "def k_f(x):\n",
    "    return (σ_f**2)*np.exp(-(x**2)/(2*(l_f**2)))\n",
    "\n",
    "# mean of forcing for use in FEniCS\n",
    "f_bar = Constant(1.0)\n",
    "\n",
    "# true prior solution mean\n",
    "μ_true = Expression('0.5*x[0]*(1-x[0])',degree=2)"
   ]
  },
  {
   "cell_type": "markdown",
   "id": "d76bd997",
   "metadata": {},
   "source": [
    "We now set up the required funtions to compute the true prior covariance $c_u$ using the Green's function together with quadrature."
   ]
  },
  {
   "cell_type": "code",
   "execution_count": null,
   "id": "47e47e94",
   "metadata": {},
   "outputs": [],
   "source": [
    "# compute inner integral over t\n",
    "def η(w,y):\n",
    "    I_1 = integrate.quad(lambda t: t*c_f(w,t),0.0,y)[0]\n",
    "    I_2 = integrate.quad(lambda t: (1-t)*c_f(w,t),y,1.0)[0]\n",
    "    return (1-y)*I_1 + y*I_2\n",
    "\n",
    "# use this function eta and compute the outer integral over w\n",
    "def c_u(x,y):\n",
    "    I_1 = integrate.quad(lambda w: (1-w)*η(w,y),x,1.0)[0]\n",
    "    I_2 = integrate.quad(lambda w: w*η(w,y),0.0,x)[0]\n",
    "    return x*I_1 + (1-x)*I_2"
   ]
  },
  {
   "cell_type": "markdown",
   "id": "b5c895c5",
   "metadata": {},
   "source": [
    "We will also need a function `u_quad` to accurately compute the solution for a given realisation of $f$ in order to generate sensor data. This is set up below:"
   ]
  },
  {
   "cell_type": "code",
   "execution_count": null,
   "id": "640beb12",
   "metadata": {},
   "outputs": [],
   "source": [
    "def u_quad(x,f,maxiter=50):\n",
    "    I_1 = integrate.quadrature(lambda w: w*f(w), 0.0, x,maxiter=maxiter)[0]\n",
    "    I_2 = integrate.quadrature(lambda w: (1-w)*f(w),x, 1.0,maxiter=maxiter)[0]\n",
    "    return (1-x)*I_1 + x*I_2"
   ]
  },
  {
   "cell_type": "markdown",
   "id": "f6c4d87f",
   "metadata": {},
   "source": [
    "We now set up a reference grid on which we will compare the true and statFEM covariance functions. We take a grid of length $N = 41$."
   ]
  },
  {
   "cell_type": "code",
   "execution_count": null,
   "id": "d85412fc",
   "metadata": {},
   "outputs": [],
   "source": [
    "N = 41\n",
    "grid = np.linspace(0,1,N)"
   ]
  },
  {
   "cell_type": "markdown",
   "id": "ea514e13",
   "metadata": {},
   "source": [
    "We now set up the sensor grid and the true prior covariance on this sensor grid which will be needed in all further computations. We also set up the function which gives the vector $\\{c_u(x,y_i)\\}_{i=1}^{s}$ needed for the posterior."
   ]
  },
  {
   "cell_type": "code",
   "execution_count": null,
   "id": "c31ede38",
   "metadata": {},
   "outputs": [],
   "source": [
    "s = 10 # number of sensors\n",
    "# create sensor grid (???do we need to reverse???)\n",
    "Y = np.linspace(0.01,0.99,s)[::-1] \n",
    "# get true prior covariance on sensor grid\n",
    "C_true_s = kernMat(c_u,Y.flatten())\n",
    "# create function to compute vector mentioned above\n",
    "def c_u_vect(x):\n",
    "    return np.array([c_u(x,y_i) for y_i in Y])"
   ]
  },
  {
   "cell_type": "markdown",
   "id": "4534291a",
   "metadata": {},
   "source": [
    "We now set up a function to get the statFEM posterior for a FE mesh of size $h$, using functions from <a href=\"/statFEM/oneDim.html#\"><code>oneDim</code></a>."
   ]
  },
  {
   "cell_type": "code",
   "execution_count": null,
   "id": "5e544e32",
   "metadata": {},
   "outputs": [],
   "source": [
    "# set up function to compute statFEM posterior\n",
    "def fem_posterior(h,f_bar,k_f,ϵ,Y,v_dat,grid):\n",
    "    J = int(np.round(1/h))\n",
    "    m_post_fem = m_post_fem_assembler(J,f_bar,k_f,ϵ,Y,v_dat)\n",
    "    μ = MyExpression()\n",
    "    μ.f = m_post_fem\n",
    "    Σ = c_post_fem_assembler(J,k_f,grid,Y,ϵ,False,True)\n",
    "    return μ,Σ"
   ]
  },
  {
   "cell_type": "markdown",
   "id": "7add6065",
   "metadata": {},
   "source": [
    "We now set up a function to compare the covariance functions on the reference grid. This function computes an approximation of the covariance contribution to the 2-Wasserstein distance discussed in <a href=\"/statFEM/oneDim.html#Difference-between-true-prior-covariance-and-statFEM-prior-covariance\"><code>oneDim</code></a>."
   ]
  },
  {
   "cell_type": "code",
   "execution_count": null,
   "id": "cbe59299",
   "metadata": {},
   "outputs": [],
   "source": [
    "# function to compute cov error\n",
    "def compute_cov_diff(C_fem,C_true,C_true_sqrt,tol=1e-10):\n",
    "    N = C_true.shape[0]\n",
    "    C12 = C_true_sqrt @ C_fem @ C_true_sqrt\n",
    "    C12_sqrt = np.real(sqrtm(C12))\n",
    "    rel_error = np.linalg.norm(C12_sqrt @ C12_sqrt - C12)/np.linalg.norm(C12)\n",
    "    assert rel_error < tol\n",
    "    h = 1/(N-1)\n",
    "    return h*(np.trace(C_true) + np.trace(C_fem) - 2*np.trace(C12_sqrt))"
   ]
  },
  {
   "cell_type": "markdown",
   "id": "9ac2e05f",
   "metadata": {},
   "source": [
    "With all of this in place we can now set up a function which computes an approximation of the 2-Wasserstein distance between the true and statFEM posteriors."
   ]
  },
  {
   "cell_type": "code",
   "execution_count": null,
   "id": "3cecf16a",
   "metadata": {},
   "outputs": [],
   "source": [
    "def W(μ_fem_s,μ_true_s,Σ_fem_s,Σ_true_s,Σ_true_s_sqrt,J_norm):\n",
    "    mean_error = errornorm(μ_true_s,μ_fem_s,'L2',mesh=UnitIntervalMesh(J_norm))\n",
    "    cov_error = compute_cov_diff(Σ_fem_s,Σ_true_s,Σ_true_s_sqrt)\n",
    "    cov_error = np.sqrt(np.abs(cov_error))\n",
    "    error = mean_error + cov_error\n",
    "    return error"
   ]
  },
  {
   "cell_type": "markdown",
   "id": "df452561",
   "metadata": {},
   "source": [
    "We now set up a range of $h$ values on which to compute this error together with a range of noise levels to use. We determine the noise levels by investigating the variances of the true prior solution at each point of the grid. We do this by plotting `c_u(x,x)` for `x` in `grid`. We also get print some summary statistics of these variances. We also#hide_input\n",
    "grid_vars = np.array([c_u(x,x) for x in grid])\n",
    "plt.plot(grid,grid_vars)\n",
    "plt.grid()\n",
    "plt.xlabel('$x$')\n",
    "plt.ylabel('$\\operatorname{var}(u(x))$')\n",
    "plt.title('True prior variance at each grid point')\n",
    "plt.show()\n",
    "pd.DataFrame({'Prior Variance' : grid_vars}).describe() set up the `J_norm` variable needed to control the grid on which the mean error is computed in the Wasserstein distance."
   ]
  },
  {
   "cell_type": "code",
   "execution_count": null,
   "id": "e7d87fa3-da9a-47c0-8e6b-e35e1fb61cf2",
   "metadata": {},
   "outputs": [
    {
     "data": {
      "image/png": "[encoded data removed]",
      "text/plain": [
       "<Figure size 720x432 with 1 Axes>"
      ]
     },
     "metadata": {
      "needs_background": "light"
     },
     "output_type": "display_data"
    },
    {
     "data": {
      "text/html": [
       "<div>\n",
       "<style scoped>\n",
       "    .dataframe tbody tr th:only-of-type {\n",
       "        vertical-align: middle;\n",
       "    }\n",
       "\n",
       "    .dataframe tbody tr th {\n",
       "        vertical-align: top;\n",
       "    }\n",
       "\n",
       "    .dataframe thead th {\n",
       "        text-align: right;\n",
       "    }\n",
       "</style>\n",
       "<table border=\"1\" class=\"dataframe\">\n",
       "  <thead>\n",
       "    <tr style=\"text-align: right;\">\n",
       "      <th></th>\n",
       "      <th>Prior Variance</th>\n",
       "    </tr>\n",
       "  </thead>\n",
       "  <tbody>\n",
       "    <tr>\n",
       "      <th>count</th>\n",
       "      <td>41.000000</td>\n",
       "    </tr>\n",
       "    <tr>\n",
       "      <th>mean</th>\n",
       "      <td>0.000065</td>\n",
       "    </tr>\n",
       "    <tr>\n",
       "      <th>std</th>\n",
       "      <td>0.000045</td>\n",
       "    </tr>\n",
       "    <tr>\n",
       "      <th>min</th>\n",
       "      <td>0.000000</td>\n",
       "    </tr>\n",
       "    <tr>\n",
       "      <th>25%</th>\n",
       "      <td>0.000023</td>\n",
       "    </tr>\n",
       "    <tr>\n",
       "      <th>50%</th>\n",
       "      <td>0.000070</td>\n",
       "    </tr>\n",
       "    <tr>\n",
       "      <th>75%</th>\n",
       "      <td>0.000110</td>\n",
       "    </tr>\n",
       "    <tr>\n",
       "      <th>max</th>\n",
       "      <td>0.000126</td>\n",
       "    </tr>\n",
       "  </tbody>\n",
       "</table>\n",
       "</div>"
      ],
      "text/plain": [
       "       Prior Variance\n",
       "count       41.000000\n",
       "mean         0.000065\n",
       "std          0.000045\n",
       "min          0.000000\n",
       "25%          0.000023\n",
       "50%          0.000070\n",
       "75%          0.000110\n",
       "max          0.000126"
      ]
     },
     "execution_count": null,
     "metadata": {},
     "output_type": "execute_result"
    }
   ],
   "source": [
    "#hide_input\n",
    "grid_vars = np.array([c_u(x,x) for x in grid])\n",
    "plt.plot(grid,grid_vars)\n",
    "plt.grid()\n",
    "plt.xlabel('$x$')\n",
    "plt.ylabel('$\\operatorname{var}(u(x))$')\n",
    "plt.title('True prior variance at each grid point')\n",
    "plt.show()\n",
    "pd.DataFrame({'Prior Variance' : grid_vars}).describe()"
   ]
  },
  {
   "cell_type": "code",
   "execution_count": null,
   "id": "779492c3",
   "metadata": {},
   "outputs": [
    {
     "name": "stdout",
     "output_type": "stream",
     "text": [
      "h values: [0.25  0.2   0.167 0.143 0.125 0.111 0.1   0.091 0.083 0.077 0.071 0.067\n",
      " 0.062 0.059 0.056 0.053 0.05  0.048 0.045 0.043 0.042 0.038 0.037 0.034\n",
      " 0.032 0.029 0.027 0.025]\n",
      "\n",
      "ϵ values: [5e-05, 0.0001, 0.01, 0.1]\n"
     ]
    }
   ],
   "source": [
    "h_range_tmp = np.linspace(0.25,0.025,100)\n",
    "h_range = 1/np.unique(np.round(1/h_range_tmp))\n",
    "# print h_range to 2 decimal places\n",
    "print('h values: ' + str(np.round(h_range,3))+'\\n')\n",
    "# noise levels to use\n",
    "#ϵ_list = [0.01,0.1,0.2,0.5,1.0]\n",
    "ϵ_list = [0.0001/2,0.0001,0.01,0.1]\n",
    "print('ϵ values: ' + str(ϵ_list))\n",
    "J_norm = 40"
   ]
  },
  {
   "cell_type": "markdown",
   "id": "6cb49882",
   "metadata": {},
   "source": [
    "We now create a dictionary to hold the result for the different noise levels:"
   ]
  },
  {
   "cell_type": "code",
   "execution_count": null,
   "id": "f0826dfb",
   "metadata": {},
   "outputs": [],
   "source": [
    "results = {}"
   ]
  },
  {
   "cell_type": "markdown",
   "id": "fac6782e",
   "metadata": {},
   "source": [
    "We will now loop over the list of noise levels, generate sensor data, get the statFEM posterior and true posterior and compute the error."
   ]
  },
  {
   "cell_type": "code",
   "execution_count": null,
   "id": "8baac17d",
   "metadata": {},
   "outputs": [
    {
     "data": {
      "application/vnd.jupyter.widget-view+json": {
       "model_id": "75e95fec106e49c8a0507c1e7f983f74",
       "version_major": 2,
       "version_minor": 0
      },
      "text/plain": [
       "Eps loop:   0%|          | 0/4 [00:00<?, ?it/s]"
      ]
     },
     "metadata": {},
     "output_type": "display_data"
    },
    {
     "data": {
      "application/vnd.jupyter.widget-view+json": {
       "model_id": "5fa01ddd1f464c85bfaeaa5f403c3454",
       "version_major": 2,
       "version_minor": 0
      },
      "text/plain": [
       "h loop:   0%|          | 0/28 [00:00<?, ?it/s]"
      ]
     },
     "metadata": {},
     "output_type": "display_data"
    },
    {
     "data": {
      "application/vnd.jupyter.widget-view+json": {
       "model_id": "d535db92bb3b4390b725a2328a866a3e",
       "version_major": 2,
       "version_minor": 0
      },
      "text/plain": [
       "h loop:   0%|          | 0/28 [00:00<?, ?it/s]"
      ]
     },
     "metadata": {},
     "output_type": "display_data"
    },
    {
     "data": {
      "application/vnd.jupyter.widget-view+json": {
       "model_id": "714f2a2b0e264483a9033b1f74e2a9dd",
       "version_major": 2,
       "version_minor": 0
      },
      "text/plain": [
       "h loop:   0%|          | 0/28 [00:00<?, ?it/s]"
      ]
     },
     "metadata": {},
     "output_type": "display_data"
    },
    {
     "data": {
      "application/vnd.jupyter.widget-view+json": {
       "model_id": "5fe74826316e4394be986bbd33c95bd8",
       "version_major": 2,
       "version_minor": 0
      },
      "text/plain": [
       "h loop:   0%|          | 0/28 [00:00<?, ?it/s]"
      ]
     },
     "metadata": {},
     "output_type": "display_data"
    },
    {
     "name": "stdout",
     "output_type": "stream",
     "text": [
      "CPU times: user 15min 1s, sys: 1min 45s, total: 16min 47s\n",
      "Wall time: 15min 56s\n"
     ]
    }
   ],
   "source": [
    "%%time\n",
    "np.random.seed(42)\n",
    "tol = 1e-10 # tolerance for computation of posterior cov sqrt\n",
    "for ϵ in tqdm(ϵ_list,desc='Eps loop'):\n",
    "    # generate sensor data\n",
    "    v_dat = gen_sensor(ϵ,m_f,k_f,Y,u_quad,grid,maxiter=200)\n",
    "    \n",
    "    # get true B mat required for posterior\n",
    "    B_true = (ϵ**2)*np.eye(s) + C_true_s\n",
    "    \n",
    "    # set up true posterior mean\n",
    "    def true_mean(x):\n",
    "        return m_post(x,μ_true,c_u_vect,v_dat,Y,B_true)\n",
    "    μ_true_s = MyExpression()\n",
    "    μ_true_s.f = true_mean\n",
    "    \n",
    "    # set up true posterior covariance\n",
    "    def c_post_true(x,y):\n",
    "        return c_post(x,y,c_u,Y,B_true)\n",
    "    Σ_true_s = kernMat(c_post_true,grid.flatten())\n",
    "    Σ_true_s_sqrt = np.real(sqrtm(Σ_true_s))\n",
    "    rel_error = np.linalg.norm(Σ_true_s_sqrt @ Σ_true_s_sqrt - Σ_true_s) / np.linalg.norm(Σ_true_s)\n",
    "    if rel_error >= tol:\n",
    "        print('ERROR')\n",
    "        break\n",
    "    \n",
    "    # loop over the h values and compute the errors \n",
    "    # first create a list to hold these errors\n",
    "    res = []\n",
    "    for h in tqdm(h_range,desc='h loop'):\n",
    "        # get statFEM posterior mean and cov mat\n",
    "        μ_fem_s, Σ_fem_s = fem_posterior(h,f_bar,k_f,ϵ,Y,v_dat,grid)\n",
    "        # compute the error\n",
    "        error = W(μ_fem_s,μ_true_s,Σ_fem_s,Σ_true_s,Σ_true_s_sqrt,J_norm)\n",
    "        # store this in res\n",
    "        res.append(error)\n",
    "    \n",
    "    # store ϵ value with errors in the dictionary\n",
    "    results[ϵ] = res"
   ]
  },
  {
   "cell_type": "markdown",
   "id": "c0b536d4",
   "metadata": {},
   "source": [
    "We now analyse the results by plotting the errors on a log-log scale for each noise level on the same figure. We expect a line of best fit with a slope of $p=2$. The results are shown below:"
   ]
  },
  {
   "cell_type": "code",
   "execution_count": null,
   "id": "fb85bca6",
   "metadata": {},
   "outputs": [],
   "source": [
    "#hide\n",
    "log_h_range = np.log(h_range)\n",
    "x = np.linspace(np.min(log_h_range),np.max(log_h_range),100)"
   ]
  },
  {
   "cell_type": "code",
   "execution_count": null,
   "id": "5adb06bd",
   "metadata": {},
   "outputs": [
    {
     "name": "stdout",
     "output_type": "stream",
     "text": [
      "ϵ: 0.00005,    slope: 2.0162,    intercept: -2.9227\n",
      "ϵ: 0.00010,    slope: 2.0102,    intercept: -2.9486\n",
      "ϵ: 0.01000,    slope: 1.9912,    intercept: -2.7739\n",
      "ϵ: 0.10000,    slope: 1.9940,    intercept: -2.2309\n"
     ]
    },
    {
     "data": {
      "image/png": "[encoded data removed]",
      "text/plain": [
       "<Figure size 720x432 with 1 Axes>"
      ]
     },
     "metadata": {
      "needs_background": "light"
     },
     "output_type": "display_data"
    }
   ],
   "source": [
    "#hide_input\n",
    "plt.plot()\n",
    "plt.grid()\n",
    "plt.xlabel('$\\log(h)$')\n",
    "plt.ylabel('$\\log(W)$')\n",
    "for ϵ in ϵ_list:\n",
    "    errors = results[ϵ]\n",
    "    log_errors = np.log(errors)\n",
    "    lm = linregress(log_h_range,log_errors)\n",
    "    print('ϵ: %.5f,    slope: %.4f,    intercept: %.4f' % (ϵ, lm.slope,lm.intercept))\n",
    "    plt.scatter(log_h_range,log_errors)\n",
    "    plt.plot(x,lm.intercept + lm.slope * x, label='ϵ = ' +str(ϵ))\n",
    "plt.plot(x,-1.5+2*x,'--',c='black',label='reference line')\n",
    "plt.legend()\n",
    "plt.title('Plot of $\\log(W)$ vs $\\log(h)$ for different sensor noise levels')\n",
    "plt.savefig('1D_posterior_results.png',dpi=300,bbox_inches='tight',facecolor=\"w\")\n",
    "plt.show()"
   ]
  },
  {
   "cell_type": "markdown",
   "id": "40f66647",
   "metadata": {},
   "source": [
    "From the above plot we can see that we indeed obtain slopes of arouund 2 and further that the lines for different noise levels are parallel, reflecting the different proportionality constants as different intercepts."
   ]
  },
  {
   "cell_type": "code",
   "execution_count": null,
   "id": "bebaeb24",
   "metadata": {},
   "outputs": [],
   "source": [
    "#hide\n",
    "import pickle\n",
    "with open('1D_posterior_results','wb') as f:\n",
    "    pickle.dump(results,f)"
   ]
  },
  {
   "cell_type": "code",
   "execution_count": null,
   "id": "1185131e-5132-4d26-a9b4-9c888a62ebab",
   "metadata": {},
   "outputs": [],
   "source": []
  }
 ],
 "metadata": {
  "kernelspec": {
   "display_name": "fenicsproject18",
   "language": "python",
   "name": "fenicsproject18"
  }
 },
 "nbformat": 4,
 "nbformat_minor": 5
}
