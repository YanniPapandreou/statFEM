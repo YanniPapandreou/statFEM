{
 "cells": [
  {
   "cell_type": "code",
   "execution_count": null,
   "id": "67da61ef",
   "metadata": {},
   "outputs": [],
   "source": [
    "# default_exp"
   ]
  },
  {
   "cell_type": "code",
   "execution_count": null,
   "id": "b7ca078a",
   "metadata": {},
   "outputs": [],
   "source": [
    "#all_slow"
   ]
  },
  {
   "cell_type": "markdown",
   "id": "d0eac448",
   "metadata": {},
   "source": [
    "# 1-D prior toy example\n",
    "\n",
    "> Demonstration of prior error bounds for a 1-D toy example"
   ]
  },
  {
   "cell_type": "code",
   "execution_count": null,
   "id": "c8adeb59",
   "metadata": {},
   "outputs": [],
   "source": [
    "#hide\n",
    "from dolfin import *\n",
    "import numpy as np\n",
    "import matplotlib.pyplot as plt\n",
    "plt.rcParams['figure.figsize'] = (10,6)\n",
    "from scipy.stats import linregress\n",
    "from scipy import integrate\n",
    "from scipy.linalg import sqrtm\n",
    "from tqdm.notebook import tqdm\n",
    "import sympy; sympy.init_printing()\n",
    "# code for displaying matrices nicely\n",
    "def display_matrix(m):\n",
    "    display(sympy.Matrix(m))"
   ]
  },
  {
   "cell_type": "markdown",
   "id": "e6e8a9c1",
   "metadata": {},
   "source": [
    "In this notebook we will demonstrate the error bounds for the statFEM prior for the toy example introduced in <a href=\"/statFEM/oneDim.html#1-dimensional-case-(ODE)\"><code>oneDim</code></a>"
   ]
  },
  {
   "cell_type": "code",
   "execution_count": null,
   "id": "eac4b79d",
   "metadata": {},
   "outputs": [],
   "source": [
    "from statFEM.oneDim import mean_assembler, kernMat, cov_assembler"
   ]
  },
  {
   "cell_type": "code",
   "execution_count": null,
   "id": "2faaed80",
   "metadata": {},
   "outputs": [],
   "source": [
    "# set up true mean and f_bar\n",
    "μ_true = Expression('0.5*x[0]*(1-x[0])',degree=2)\n",
    "f_bar = Constant(1.0)"
   ]
  },
  {
   "cell_type": "code",
   "execution_count": null,
   "id": "f549428f",
   "metadata": {},
   "outputs": [],
   "source": [
    "# set up kernel functions for forcing f\n",
    "l_f = 0.4\n",
    "σ_f = 0.1\n",
    "\n",
    "def c_f(x,y):\n",
    "    return (σ_f**2)*np.exp(-(x-y)**2/(2*(l_f**2)))\n",
    "\n",
    "# translation invariant form of c_f\n",
    "def k_f(x):\n",
    "    return (σ_f**2)*np.exp(-(x**2)/(2*(l_f**2)))"
   ]
  },
  {
   "cell_type": "code",
   "execution_count": null,
   "id": "60ccb369",
   "metadata": {},
   "outputs": [],
   "source": [
    "# set up true cov function for solution\n",
    "# compute inner integral over t\n",
    "def η(w,y):\n",
    "    I_1 = integrate.quad(lambda t: t*c_f(w,t),0.0,y)[0]\n",
    "    I_2 = integrate.quad(lambda t: (1-t)*c_f(w,t),y,1.0)[0]\n",
    "    return (1-y)*I_1 + y*I_2\n",
    "\n",
    "# use this function eta and compute the outer integral over w\n",
    "def c_u(x,y):\n",
    "    I_1 = integrate.quad(lambda w: (1-w)*η(w,y),x,1.0)[0]\n",
    "    I_2 = integrate.quad(lambda w: w*η(w,y),0.0,x)[0]\n",
    "    return x*I_1 + (1-x)*I_2"
   ]
  },
  {
   "cell_type": "code",
   "execution_count": null,
   "id": "76eea806",
   "metadata": {},
   "outputs": [],
   "source": [
    "# set up reference grid\n",
    "N = 51\n",
    "grid = np.linspace(0,1,N)"
   ]
  },
  {
   "cell_type": "code",
   "execution_count": null,
   "id": "a76b78a2",
   "metadata": {},
   "outputs": [],
   "source": [
    "# get the true cov matrix and its square root\n",
    "C_true = kernMat(c_u,grid,True,False)\n",
    "tol = 1e-15\n",
    "C_true_sqrt = np.real(sqrtm(C_true))\n",
    "rel_error = np.linalg.norm(C_true_sqrt @ C_true_sqrt - C_true)/np.linalg.norm(C_true)\n",
    "assert rel_error <= tol"
   ]
  },
  {
   "cell_type": "code",
   "execution_count": null,
   "id": "b6e7ebd6",
   "metadata": {},
   "outputs": [],
   "source": [
    "# set up function to compute fem_prior\n",
    "def fem_prior(h,f_bar,k_f,grid):\n",
    "    J = int(np.round(1/h))\n",
    "    μ = mean_assembler(h,f_bar)\n",
    "    Σ = cov_assembler(J,k_f,grid,False,True)\n",
    "    return μ,Σ"
   ]
  },
  {
   "cell_type": "code",
   "execution_count": null,
   "id": "fccfa234",
   "metadata": {},
   "outputs": [],
   "source": [
    "# function to compute cov error needed for the approximate wasserstein\n",
    "def compute_cov_diff(C1,C_true,C_true_sqrt,tol=1e-10):\n",
    "    N = C_true.shape[0]\n",
    "    C12 = C_true_sqrt @ C1 @ C_true_sqrt\n",
    "    C12_sqrt = np.real(sqrtm(C12))\n",
    "    rel_error = np.linalg.norm(C12_sqrt @ C12_sqrt - C12)/np.linalg.norm(C12)\n",
    "    assert rel_error < tol\n",
    "    h = 1/(N-1)\n",
    "    return h*(np.trace(C_true) + np.trace(C1) - 2*np.trace(C12_sqrt))"
   ]
  },
  {
   "cell_type": "code",
   "execution_count": null,
   "id": "ea64903a",
   "metadata": {},
   "outputs": [],
   "source": [
    "def W(μ_fem,μ_true,Σ_fem,Σ_true,Σ_true_sqrt):\n",
    "    mean_error = errornorm(μ_true,μ_fem,'L2')\n",
    "    cov_error = compute_cov_diff(Σ_fem,Σ_true,Σ_true_sqrt)\n",
    "    cov_error = np.sqrt(np.abs(cov_error))\n",
    "    error = mean_error + cov_error\n",
    "    return error"
   ]
  },
  {
   "cell_type": "code",
   "execution_count": null,
   "id": "ee7feb18",
   "metadata": {},
   "outputs": [
    {
     "data": {
      "text/plain": [
       "array([0.25      , 0.2       , 0.16666667, 0.14285714, 0.125     ,\n",
       "       0.11111111, 0.1       , 0.09090909, 0.08333333, 0.07692308,\n",
       "       0.07142857, 0.06666667, 0.0625    , 0.05882353, 0.05555556,\n",
       "       0.05263158, 0.05      , 0.04761905, 0.04545455, 0.04347826,\n",
       "       0.04166667, 0.03846154, 0.03571429, 0.03448276, 0.03125   ,\n",
       "       0.02941176, 0.02702703, 0.02439024, 0.02222222, 0.02      ])"
      ]
     },
     "execution_count": null,
     "metadata": {},
     "output_type": "execute_result"
    }
   ],
   "source": [
    "# set up range of h values to use\n",
    "h_range_tmp = np.linspace(0.25,0.02,100)\n",
    "h_range = 1/np.unique(np.round(1/h_range_tmp))\n",
    "h_range"
   ]
  },
  {
   "cell_type": "code",
   "execution_count": null,
   "id": "4ab449de",
   "metadata": {},
   "outputs": [
    {
     "data": {
      "application/vnd.jupyter.widget-view+json": {
       "model_id": "e1a0d5987dcf43c2be0513f2cb181dde",
       "version_major": 2,
       "version_minor": 0
      },
      "text/plain": [
       "  0%|          | 0/30 [00:00<?, ?it/s]"
      ]
     },
     "metadata": {},
     "output_type": "display_data"
    },
    {
     "name": "stdout",
     "output_type": "stream",
     "text": [
      "CPU times: user 1.49 s, sys: 3.16 s, total: 4.65 s\n",
      "Wall time: 763 ms\n"
     ]
    }
   ],
   "source": [
    "%%time\n",
    "errors = []\n",
    "for h in tqdm(h_range):\n",
    "    # obtain the fem prior for this value of h\n",
    "    μ, Σ = fem_prior(h,f_bar,k_f,grid)\n",
    "    # compute the error between the true and fem prior\n",
    "    error = W(μ,μ_true,Σ,C_true,C_true_sqrt)\n",
    "    # append to errors\n",
    "    errors.append(error)"
   ]
  },
  {
   "cell_type": "code",
   "execution_count": null,
   "id": "7a14f433",
   "metadata": {},
   "outputs": [],
   "source": [
    "errors = np.array(errors)"
   ]
  },
  {
   "cell_type": "code",
   "execution_count": null,
   "id": "236932e2",
   "metadata": {},
   "outputs": [
    {
     "name": "stdout",
     "output_type": "stream",
     "text": [
      "slope: 2.000352    intercept: -2.185387    r value: 0.999883     p value: 0.000000\n"
     ]
    },
    {
     "data": {
      "image/png": "[encoded data removed]",
      "text/plain": [
       "<Figure size 720x432 with 1 Axes>"
      ]
     },
     "metadata": {
      "needs_background": "light"
     },
     "output_type": "display_data"
    }
   ],
   "source": [
    "log_h_range = np.log(h_range)\n",
    "log_errors = np.log(errors)\n",
    "\n",
    "# perform linear regression to get line of best fit for the log scales:\n",
    "lm = linregress(log_h_range,log_errors)\n",
    "print(\"slope: %f    intercept: %f    r value: %f     p value: %f\" % (lm.slope, lm.intercept, lm.rvalue, lm.pvalue))\n",
    "\n",
    "# plot line of best fit with the data:\n",
    "x = np.linspace(np.min(log_h_range),np.max(log_h_range),100)\n",
    "plt.scatter(log_h_range,log_errors,label='data')\n",
    "plt.plot(x,lm.intercept + lm.slope * x, 'r', label='fitted line')\n",
    "plt.grid()\n",
    "plt.legend()\n",
    "plt.xlabel('$\\log(h)$')\n",
    "plt.ylabel('$\\log(error)$')\n",
    "plt.show()"
   ]
  },
  {
   "cell_type": "code",
   "execution_count": null,
   "id": "e8ca53e4",
   "metadata": {},
   "outputs": [],
   "source": []
  },
  {
   "cell_type": "code",
   "execution_count": null,
   "id": "a73403bb",
   "metadata": {},
   "outputs": [],
   "source": []
  }
 ],
 "metadata": {
  "kernelspec": {
   "display_name": "fenicsproject18",
   "language": "python",
   "name": "fenicsproject18"
  }
 },
 "nbformat": 4,
 "nbformat_minor": 5
}
