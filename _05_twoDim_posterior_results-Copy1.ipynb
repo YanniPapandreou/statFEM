{
 "cells": [
  {
   "cell_type": "code",
   "execution_count": null,
   "id": "eb8ad1eb",
   "metadata": {},
   "outputs": [],
   "source": [
    "# default_exp"
   ]
  },
  {
   "cell_type": "code",
   "execution_count": null,
   "id": "57b16341",
   "metadata": {},
   "outputs": [],
   "source": [
    "#hide\n",
    "#all_slow"
   ]
  },
  {
   "cell_type": "markdown",
   "id": "434deaca",
   "metadata": {},
   "source": [
    "# 2-D posterior toy example\n",
    "\n",
    "> Demonstration of posterior error bounds for a 2-D toy example, for various levels of sensor noise"
   ]
  },
  {
   "cell_type": "markdown",
   "id": "3a869bc3",
   "metadata": {},
   "source": [
    "In this notebook we will demonstrate the error bounds for the statFEM posterior for the toy example introduced in <a href=\"/statFEM/twoDim.html#2-dimensional-case-(PDE)\"><code>twoDim</code></a>. We first import some required packages."
   ]
  },
  {
   "cell_type": "code",
   "execution_count": null,
   "id": "5da877dd",
   "metadata": {},
   "outputs": [],
   "source": [
    "from dolfin import *\n",
    "import numpy as np\n",
    "import matplotlib.pyplot as plt\n",
    "plt.rcParams['figure.figsize'] = (10,6)\n",
    "from scipy.linalg import sqrtm\n",
    "import sympy; sympy.init_printing()\n",
    "from tqdm.notebook import tqdm\n",
    "# code for displaying matrices nicely\n",
    "def display_matrix(m):\n",
    "    display(sympy.Matrix(m))\n",
    "# import required functions from twoDim\n",
    "from statFEM.twoDim import mean_assembler, kernMat, cov_assembler, m_post, gen_sensor, MyExpression, m_post_fem_assembler, c_post, c_post_fem_assembler"
   ]
  },
  {
   "cell_type": "markdown",
   "id": "e8b4347f",
   "metadata": {},
   "source": [
    "Since we again to not have access to the true distribution we will use the method outlined in the section <a href=\"/statFEM/twoDim_prior_results.html\"><code>2-D prior toy example</code></a> to approximate the convergence rate. We now set up the required code."
   ]
  },
  {
   "cell_type": "markdown",
   "id": "e8bed227",
   "metadata": {},
   "source": [
    "First we set up the mean and kernel functions for the random forcing term $f$."
   ]
  },
  {
   "cell_type": "code",
   "execution_count": null,
   "id": "2993e30b",
   "metadata": {},
   "outputs": [],
   "source": [
    "# set up mean and kernel functions\n",
    "f_bar = Constant(1.0)\n",
    "\n",
    "l_f = 0.4\n",
    "σ_f = 0.1\n",
    "\n",
    "def k_f(x):\n",
    "    return (σ_f**2)*np.exp(-(x**2)/(2*(l_f**2)))\n",
    "\n",
    "def m_f(x):\n",
    "    return 1.0"
   ]
  },
  {
   "cell_type": "markdown",
   "id": "da2f8adb",
   "metadata": {},
   "source": [
    "We now set up the sensor grid and generate some sensor data."
   ]
  },
  {
   "cell_type": "code",
   "execution_count": null,
   "id": "51cef3a0",
   "metadata": {},
   "outputs": [],
   "source": [
    "ϵ = 0.2\n",
    "s = 25\n",
    "s_sqrt = int(np.round(np.sqrt(s)))\n",
    "Y_range = np.linspace(0.01,0.99,s_sqrt)\n",
    "Y = np.array([[x,y] for x in Y_range for y in Y_range])\n",
    "J_fine = 100\n",
    "np.random.seed(42)\n",
    "v_dat = gen_sensor(ϵ,m_f,k_f,Y,J_fine,False,True)"
   ]
  },
  {
   "cell_type": "markdown",
   "id": "8c37af03",
   "metadata": {},
   "source": [
    "We now set up a function to get the statFEM posterior for a FE mesh size $h$, using functions from <a href=\"/statFEM/twoDim.html#\"><code>twoDim</code></a>."
   ]
  },
  {
   "cell_type": "code",
   "execution_count": null,
   "id": "4971679c",
   "metadata": {},
   "outputs": [],
   "source": [
    "def fem_posterior(h,f_bar,k_f,ϵ,Y,v_dat,grid):\n",
    "    J = int(np.round(1/h))\n",
    "    m_post_fem = m_post_fem_assembler(J,f_bar,k_f,ϵ,Y,v_dat)\n",
    "    μ = MyExpression()\n",
    "    μ.f = m_post_fem\n",
    "    Σ = c_post_fem_assembler(J,k_f,grid,Y,ϵ,False,True)\n",
    "    return μ,Σ"
   ]
  },
  {
   "cell_type": "markdown",
   "id": "ab1facbd",
   "metadata": {},
   "source": [
    "We now set up a reference grid on which we will compare the covariance matrices."
   ]
  },
  {
   "cell_type": "code",
   "execution_count": null,
   "id": "b714c132",
   "metadata": {},
   "outputs": [],
   "source": [
    "N = 41\n",
    "x_range = np.linspace(0,1,N)\n",
    "grid = np.array([[x,y] for x in x_range for y in x_range])"
   ]
  },
  {
   "cell_type": "markdown",
   "id": "4ebceaee",
   "metadata": {},
   "source": [
    "We now set up a function to compare the covariance functions on the reference grid."
   ]
  },
  {
   "cell_type": "code",
   "execution_count": null,
   "id": "bf15b4ef",
   "metadata": {},
   "outputs": [],
   "source": [
    "def compute_cov_diff(C1,C2,tol=1e-10):\n",
    "    N = np.sqrt(C1.shape[0])\n",
    "    #N = C1.shape[0]\n",
    "    C1_sqrt = np.real(sqrtm(C1))\n",
    "    rel_error_1 = np.linalg.norm(C1_sqrt @ C1_sqrt - C1)/np.linalg.norm(C1)\n",
    "    assert rel_error_1 < tol\n",
    "    \n",
    "    C12 = C1_sqrt @ C2 @ C1_sqrt\n",
    "    C12_sqrt = np.real(sqrtm(C12))\n",
    "    rel_error_12 = np.linalg.norm(C12_sqrt @ C12_sqrt - C12)/np.linalg.norm(C12)\n",
    "    assert rel_error_12 < tol\n",
    "    \n",
    "    hSq = (1/(N-1))**2\n",
    "    return hSq*(np.trace(C1) + np.trace(C2) - 2*np.trace(C12_sqrt))"
   ]
  },
  {
   "cell_type": "markdown",
   "id": "ff991206",
   "metadata": {},
   "source": [
    "We now set up a function to compute the Wasserstein distance between the statFEM posteriors."
   ]
  },
  {
   "cell_type": "code",
   "execution_count": null,
   "id": "34f6745b",
   "metadata": {},
   "outputs": [],
   "source": [
    "def W(μ_1,μ_2,Σ_1,Σ_2,J_norm):\n",
    "    mean_error = errornorm(μ_1,μ_2,'L2',mesh=UnitSquareMesh(J_norm,J_norm))\n",
    "    cov_error = compute_cov_diff(Σ_1,Σ_2)\n",
    "    cov_error = np.sqrt(np.abs(cov_error))\n",
    "    error = mean_error + cov_error\n",
    "    return error"
   ]
  },
  {
   "cell_type": "markdown",
   "id": "a2c1805f",
   "metadata": {},
   "source": [
    "In the interests of memory efficiency we will again create a function which will compute the ratios of errors by succesively refining the FE mesh as done in the section <a href=\"/statFEM/twoDim_prior_results.html\"><code>2-D prior toy example</code></a>."
   ]
  },
  {
   "cell_type": "code",
   "execution_count": null,
   "id": "86b8ad43",
   "metadata": {},
   "outputs": [],
   "source": [
    "def refine(h,n,f_bar,k_f,ϵ,Y,v_dat,grid,J_norm):\n",
    "    # set up empty lists to hold h-values and errors (this being the ratios)\n",
    "    h_range = []\n",
    "    errors = []\n",
    "    # get the statFEM posterior for h and h/2\n",
    "    μ_1, Σ_1 = fem_posterior(h,f_bar,k_f,ϵ,Y,v_dat,grid)\n",
    "    μ_2, Σ_2 = fem_posterior(h/2,f_bar,k_f,ϵ,Y,v_dat,grid)\n",
    "    # compute the distance between these and store in numerator variable\n",
    "    numerator = W(μ_1,μ_2,Σ_1,Σ_2,J_norm)\n",
    "    # succesively refine the mesh by halving and do this n times\n",
    "    for i in tqdm(range(n)):\n",
    "        # store mean and cov for h/2 in storage for h\n",
    "        μ_1, Σ_1 = μ_2, Σ_2\n",
    "        # in storage for h/2 store mean and cov for h/4\n",
    "        μ_2, Σ_2 = fem_posterior(h/4,f_bar,k_f,ϵ,Y,v_dat,grid)\n",
    "        # compute the distance between the posteriors for h/2 and h/4\n",
    "        # and store in denominator variable\n",
    "        denominator = W(μ_1,μ_2,Σ_1,Σ_2,J_norm)\n",
    "        # compute the ratio and store in error\n",
    "        error = numerator/denominator\n",
    "        # append the current value of h and the ratio\n",
    "        h_range.append(h)\n",
    "        errors.append(error)\n",
    "        # store denominator in numerator and halve h\n",
    "        numerator = denominator\n",
    "        h = h/2\n",
    "    # return the list of h-values together with the ratios for these values\n",
    "    return h_range,errors"
   ]
  },
  {
   "cell_type": "markdown",
   "id": "e79bdcf7",
   "metadata": {},
   "source": [
    "We now set up a list of starting $h$ values and number of refinements $n$ to get a decent number of ratios to approximate $p$. We also set up the `J_norm` variable needed to control the grid on which the mean error is computed in the Wasserstein distance."
   ]
  },
  {
   "cell_type": "code",
   "execution_count": null,
   "id": "f068854b",
   "metadata": {},
   "outputs": [],
   "source": [
    "#my_list = [(0.25,4),(0.2,3),(0.175,3)]\n",
    "my_list = [(0.25,4),(0.2,3),(0.175,3),(0.176,3),(0.177,3),(0.178,3),(0.179,3),(0.18,3),(0.21,3),(0.215,3),(0.1,2),(0.3,4),(0.31,4),(0.315,4),(0.24,3),(0.245,3),(0.14,2),(0.16,2),(0.15,2)]\n",
    "J_norm = 40"
   ]
  },
  {
   "cell_type": "markdown",
   "id": "3ac2a3e4",
   "metadata": {},
   "source": [
    "We now compute the results: "
   ]
  },
  {
   "cell_type": "code",
   "execution_count": null,
   "id": "6a30d8ca",
   "metadata": {},
   "outputs": [
    {
     "data": {
      "application/vnd.jupyter.widget-view+json": {
       "model_id": "1ebce686c42f473aa24d9b667008a20f",
       "version_major": 2,
       "version_minor": 0
      },
      "text/plain": [
       "Outer loop:   0%|          | 0/19 [00:00<?, ?it/s]"
      ]
     },
     "metadata": {},
     "output_type": "display_data"
    },
    {
     "data": {
      "application/vnd.jupyter.widget-view+json": {
       "model_id": "8c0d1c34ccdf4ac6aad801cebcc399df",
       "version_major": 2,
       "version_minor": 0
      },
      "text/plain": [
       "  0%|          | 0/4 [00:00<?, ?it/s]"
      ]
     },
     "metadata": {},
     "output_type": "display_data"
    },
    {
     "data": {
      "application/vnd.jupyter.widget-view+json": {
       "model_id": "4abd85675ca64326b58e33d12e9661d8",
       "version_major": 2,
       "version_minor": 0
      },
      "text/plain": [
       "  0%|          | 0/3 [00:00<?, ?it/s]"
      ]
     },
     "metadata": {},
     "output_type": "display_data"
    },
    {
     "data": {
      "application/vnd.jupyter.widget-view+json": {
       "model_id": "0d27056a10904532b14225e3f58394b5",
       "version_major": 2,
       "version_minor": 0
      },
      "text/plain": [
       "  0%|          | 0/3 [00:00<?, ?it/s]"
      ]
     },
     "metadata": {},
     "output_type": "display_data"
    },
    {
     "data": {
      "application/vnd.jupyter.widget-view+json": {
       "model_id": "47343f82896f46b09d95068b649bb855",
       "version_major": 2,
       "version_minor": 0
      },
      "text/plain": [
       "  0%|          | 0/3 [00:00<?, ?it/s]"
      ]
     },
     "metadata": {},
     "output_type": "display_data"
    },
    {
     "data": {
      "application/vnd.jupyter.widget-view+json": {
       "model_id": "4276b347b1fa4de5948bd7027998f494",
       "version_major": 2,
       "version_minor": 0
      },
      "text/plain": [
       "  0%|          | 0/3 [00:00<?, ?it/s]"
      ]
     },
     "metadata": {},
     "output_type": "display_data"
    },
    {
     "data": {
      "application/vnd.jupyter.widget-view+json": {
       "model_id": "c38b7a4c3a4042b5aa1278823b443c4b",
       "version_major": 2,
       "version_minor": 0
      },
      "text/plain": [
       "  0%|          | 0/3 [00:00<?, ?it/s]"
      ]
     },
     "metadata": {},
     "output_type": "display_data"
    },
    {
     "data": {
      "application/vnd.jupyter.widget-view+json": {
       "model_id": "593813b3ad5b44c795eeb4de942afd23",
       "version_major": 2,
       "version_minor": 0
      },
      "text/plain": [
       "  0%|          | 0/3 [00:00<?, ?it/s]"
      ]
     },
     "metadata": {},
     "output_type": "display_data"
    },
    {
     "data": {
      "application/vnd.jupyter.widget-view+json": {
       "model_id": "ca0f731d1e9e49d5b7601aa73bccd976",
       "version_major": 2,
       "version_minor": 0
      },
      "text/plain": [
       "  0%|          | 0/3 [00:00<?, ?it/s]"
      ]
     },
     "metadata": {},
     "output_type": "display_data"
    },
    {
     "data": {
      "application/vnd.jupyter.widget-view+json": {
       "model_id": "38ccf3fbd3504b95bdb81f19beb1d958",
       "version_major": 2,
       "version_minor": 0
      },
      "text/plain": [
       "  0%|          | 0/3 [00:00<?, ?it/s]"
      ]
     },
     "metadata": {},
     "output_type": "display_data"
    },
    {
     "data": {
      "application/vnd.jupyter.widget-view+json": {
       "model_id": "f388e308815841068beeaaeef5c87d6b",
       "version_major": 2,
       "version_minor": 0
      },
      "text/plain": [
       "  0%|          | 0/3 [00:00<?, ?it/s]"
      ]
     },
     "metadata": {},
     "output_type": "display_data"
    },
    {
     "data": {
      "application/vnd.jupyter.widget-view+json": {
       "model_id": "e101cc21e8604dacb4f3a79f1818c568",
       "version_major": 2,
       "version_minor": 0
      },
      "text/plain": [
       "  0%|          | 0/2 [00:00<?, ?it/s]"
      ]
     },
     "metadata": {},
     "output_type": "display_data"
    },
    {
     "data": {
      "application/vnd.jupyter.widget-view+json": {
       "model_id": "50094a9c450540818ecf6fe0c49e1738",
       "version_major": 2,
       "version_minor": 0
      },
      "text/plain": [
       "  0%|          | 0/4 [00:00<?, ?it/s]"
      ]
     },
     "metadata": {},
     "output_type": "display_data"
    },
    {
     "data": {
      "application/vnd.jupyter.widget-view+json": {
       "model_id": "ffd435af29bb45019e185854d1f4020c",
       "version_major": 2,
       "version_minor": 0
      },
      "text/plain": [
       "  0%|          | 0/4 [00:00<?, ?it/s]"
      ]
     },
     "metadata": {},
     "output_type": "display_data"
    },
    {
     "data": {
      "application/vnd.jupyter.widget-view+json": {
       "model_id": "a96f4d5dad9a4ecc83dfd5a66d0f5f8a",
       "version_major": 2,
       "version_minor": 0
      },
      "text/plain": [
       "  0%|          | 0/4 [00:00<?, ?it/s]"
      ]
     },
     "metadata": {},
     "output_type": "display_data"
    },
    {
     "data": {
      "application/vnd.jupyter.widget-view+json": {
       "model_id": "b58fd19736e54c3fbbc8c5153383a1dd",
       "version_major": 2,
       "version_minor": 0
      },
      "text/plain": [
       "  0%|          | 0/3 [00:00<?, ?it/s]"
      ]
     },
     "metadata": {},
     "output_type": "display_data"
    },
    {
     "data": {
      "application/vnd.jupyter.widget-view+json": {
       "model_id": "ec1d6fcadafd439084a8be5a067eae65",
       "version_major": 2,
       "version_minor": 0
      },
      "text/plain": [
       "  0%|          | 0/3 [00:00<?, ?it/s]"
      ]
     },
     "metadata": {},
     "output_type": "display_data"
    },
    {
     "data": {
      "application/vnd.jupyter.widget-view+json": {
       "model_id": "45c2701849794a29a3a9207374209883",
       "version_major": 2,
       "version_minor": 0
      },
      "text/plain": [
       "  0%|          | 0/2 [00:00<?, ?it/s]"
      ]
     },
     "metadata": {},
     "output_type": "display_data"
    },
    {
     "data": {
      "application/vnd.jupyter.widget-view+json": {
       "model_id": "622ffcb543c2424db6fb05a9cfd49c6a",
       "version_major": 2,
       "version_minor": 0
      },
      "text/plain": [
       "  0%|          | 0/2 [00:00<?, ?it/s]"
      ]
     },
     "metadata": {},
     "output_type": "display_data"
    },
    {
     "data": {
      "application/vnd.jupyter.widget-view+json": {
       "model_id": "a971c7127ed1404b83f32153db813f17",
       "version_major": 2,
       "version_minor": 0
      },
      "text/plain": [
       "  0%|          | 0/2 [00:00<?, ?it/s]"
      ]
     },
     "metadata": {},
     "output_type": "display_data"
    },
    {
     "name": "stdout",
     "output_type": "stream",
     "text": [
      "CPU times: user 13h 50min 39s, sys: 1d 9h 22min 36s, total: 1d 23h 13min 16s\n",
      "Wall time: 6h 10min 21s\n"
     ]
    }
   ],
   "source": [
    "%%time\n",
    "h_range = []\n",
    "errors = []\n",
    "np.random.seed(235)\n",
    "for h,n in tqdm(my_list,desc='Outer loop'):\n",
    "    h_range_tmp, errors_tmp = refine(h,n,f_bar,k_f,ϵ,Y,v_dat,grid,J_norm)\n",
    "    h_range.extend(h_range_tmp)\n",
    "    errors.extend(errors_tmp)"
   ]
  },
  {
   "cell_type": "markdown",
   "id": "6eaaa836",
   "metadata": {},
   "source": [
    "We now sort these results by $h$."
   ]
  },
  {
   "cell_type": "code",
   "execution_count": null,
   "id": "08d092be",
   "metadata": {},
   "outputs": [],
   "source": [
    "h_range_array = np.array(h_range)\n",
    "errors_array = np.array(errors)"
   ]
  },
  {
   "cell_type": "code",
   "execution_count": null,
   "id": "c10d5bb4",
   "metadata": {},
   "outputs": [],
   "source": [
    "argInd = np.argsort(h_range_array)\n",
    "hs = h_range_array[argInd]\n",
    "es = errors_array[argInd]"
   ]
  },
  {
   "cell_type": "code",
   "execution_count": null,
   "id": "747ea8cf",
   "metadata": {},
   "outputs": [],
   "source": [
    "HS,ind = np.unique(hs,return_index=True)\n",
    "ES = es[ind]"
   ]
  },
  {
   "cell_type": "markdown",
   "id": "02c8d71c",
   "metadata": {},
   "source": [
    "We now plot the base-2 logarithm of the ratios against $h$ below:"
   ]
  },
  {
   "cell_type": "code",
   "execution_count": null,
   "id": "d4ca33d6",
   "metadata": {},
   "outputs": [
    {
     "data": {
      "image/png": "[encoded data removed]",
      "text/plain": [
       "<Figure size 720x432 with 1 Axes>"
      ]
     },
     "metadata": {
      "needs_background": "light"
     },
     "output_type": "display_data"
    }
   ],
   "source": [
    "#hide_input\n",
    "plt.plot(HS,np.log2(ES))\n",
    "plt.xlabel('$h$')\n",
    "plt.title('Base-2 log plot of the ratios against $h$')\n",
    "plt.grid()\n",
    "plt.show()"
   ]
  },
  {
   "cell_type": "markdown",
   "id": "3d452121",
   "metadata": {},
   "source": [
    "We can see from the above plot that the logarithms seems to be approaching $p=2$ as $h$ gets small just as predicted. However, the results aren't that smooth and we haven't quite converged to $p=2$ yet. This can be due to memory constraints meaning we cannot use small enough $h$. We thus smooth the above results via two approaches:\n",
    "\n",
    "- We take a cumulative average of the ratios and then apply $\\log_2$.\n",
    "- We first apply $\\log_2$ to the ratios and then taking a cumulative average.\n",
    "\n",
    "In both cases we take the rolling average starting with large $h$.\n",
    "\n",
    "The results are shown below:"
   ]
  },
  {
   "cell_type": "code",
   "execution_count": null,
   "id": "efeccd7b",
   "metadata": {},
   "outputs": [
    {
     "data": {
      "text/plain": [
       "array([0.03125 , 0.0375  , 0.03875 , 0.039375, 0.04375 , 0.044   ,\n",
       "       0.04425 , 0.0445  , 0.04475 , 0.045   , 0.05    , 0.0525  ,\n",
       "       0.05375 , 0.06    , 0.06125 , 0.0625  , 0.07    , 0.075   ,\n",
       "       0.0775  , 0.07875 , 0.08    , 0.0875  , 0.088   , 0.0885  ,\n",
       "       0.089   , 0.0895  , 0.09    , 0.1     , 0.105   , 0.1075  ,\n",
       "       0.12    , 0.1225  , 0.125   , 0.14    , 0.15    ])"
      ]
     },
     "execution_count": null,
     "metadata": {},
     "output_type": "execute_result"
    }
   ],
   "source": [
    "HS[:-18]"
   ]
  },
  {
   "cell_type": "markdown",
   "id": "3f35edf5",
   "metadata": {},
   "source": [
    "From the smoothed results above we can see more clearly that the ratios are converging to around $p=2$."
   ]
  },
  {
   "cell_type": "code",
   "execution_count": null,
   "id": "407460db",
   "metadata": {},
   "outputs": [
    {
     "data": {
      "image/png": "[encoded data removed]",
      "text/plain": [
       "<Figure size 720x432 with 1 Axes>"
      ]
     },
     "metadata": {
      "needs_background": "light"
     },
     "output_type": "display_data"
    }
   ],
   "source": [
    "#hide_input\n",
    "# get the cumulative average of es:\n",
    "i = -18\n",
    "ES_trimmed = ES[:i]\n",
    "es_av = np.cumsum(np.log2(ES_trimmed[::-1]))/np.arange(1,len(ES_trimmed)+1)\n",
    "es_av_1 = np.log2(np.cumsum(ES_trimmed[::-1])/np.arange(1,len(ES_trimmed)+1))\n",
    "plt.plot(es_av,label='cum_av_of_log')\n",
    "plt.plot(es_av_1,label='log_of_cum_av')\n",
    "#plt.ylim((1.8,2.1))\n",
    "plt.legend()\n",
    "plt.grid()\n",
    "plt.show()"
   ]
  },
  {
   "cell_type": "code",
   "execution_count": null,
   "id": "d7ce7d7a",
   "metadata": {},
   "outputs": [
    {
     "data": {
      "image/png": "[encoded data removed]",
      "text/plain": [
       "<Figure size 720x432 with 1 Axes>"
      ]
     },
     "metadata": {
      "needs_background": "light"
     },
     "output_type": "display_data"
    }
   ],
   "source": [
    "#hide_input\n",
    "# get the cumulative average of es:\n",
    "es_av = np.cumsum(np.log2(ES[::-1]))/np.arange(1,len(ES)+1)\n",
    "es_av_1 = np.log2(np.cumsum(ES[::-1])/np.arange(1,len(ES)+1))\n",
    "plt.plot(es_av,label='cum_av_of_log')\n",
    "plt.plot(es_av_1,label='log_of_cum_av')\n",
    "plt.ylim((1.6,2.0))\n",
    "plt.legend()\n",
    "plt.grid()\n",
    "plt.show()"
   ]
  },
  {
   "cell_type": "markdown",
   "id": "c68eb8e8",
   "metadata": {},
   "source": [
    "From the smoothed results above we can see more clearly that the ratios are converging to around $p=2$."
   ]
  },
  {
   "cell_type": "code",
   "execution_count": null,
   "id": "1d5f7525",
   "metadata": {},
   "outputs": [],
   "source": [
    "#hide\n",
    "import pickle\n",
    "results = {'h':h_range,'ratios':errors}\n",
    "with open('2D_posterior_results_finer','wb') as f:\n",
    "    pickle.dump(results,f)"
   ]
  },
  {
   "cell_type": "code",
   "execution_count": null,
   "id": "6b6a6ebc",
   "metadata": {},
   "outputs": [],
   "source": []
  }
 ],
 "metadata": {
  "kernelspec": {
   "display_name": "fenicsproject18",
   "language": "python",
   "name": "fenicsproject18"
  }
 },
 "nbformat": 4,
 "nbformat_minor": 5
}
